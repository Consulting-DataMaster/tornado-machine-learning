{
 "cells": [
  {
   "cell_type": "markdown",
   "metadata": {},
   "source": [
    "<img src=\"images/GAlogo.png\" style=\"float: left; margin: 15px; height: 100px\">\n",
    "\n",
    "# CAPSTONE PROJECT\n",
    "## US TORNADOES: PREDICTING THEIR MAGNITUDE WITH MACHINE LEARNING\n",
    "### Part 5"
   ]
  },
  {
   "cell_type": "markdown",
   "metadata": {},
   "source": [
    "# Goals\n",
    "* Pre-work:\n",
    "    - Doing a class gathering all the pre-processing work done in parts [1](tornadoes_part1_project_introduction.ipynb) and [3](tornadoes_part3_eda_modelling_nlp_tsa.ipynb) (see [pre-processing tornado class](tornadoes_part4_pre_processing_class.ipynb)).\n",
    "    - Importing again the raw data from our PostgreSQL database created from Web Scraping in separate notebook [Web Scraping](tornadoes_part2_webscraping_posgres.ipynb).\n",
    "    - Applying the previously mentioned class to get a pre-processed dataframe.\n",
    "<br>\n",
    "<br>\n",
    "* Predicting tornado magnitude from numerical features:\n",
    "    - As a reference: redo best model from [part 3](tornadoes_part3_eda_modelling_nlp_tsa.ipynb).\n",
    "    - Test upsampling for improvement of the prediction of stronger tornadoes.\n",
    "<br>\n",
    "<br>\n",
    "* Predicting tornado magnitude from narratives: NLP\n",
    "    - As a reference: redo best model from [part 3](tornadoes_part3_eda_modelling_nlp_tsa.ipynb).\n",
    "    - Improve modelling.\n",
    "<br>\n",
    "<br>\n",
    "* Gathering both numerical and narrative features to get our best model.\n",
    "<br>\n",
    "<br>  \n",
    "* Predict total damage cost based on tornado magnitude and other numerical features with linear regression.\n",
    "<br>\n",
    "<br>\n",
    "* Main conclusions and further possible work."
   ]
  },
  {
   "cell_type": "markdown",
   "metadata": {},
   "source": [
    "# Packages import"
   ]
  },
  {
   "cell_type": "code",
   "execution_count": 1,
   "metadata": {},
   "outputs": [
    {
     "name": "stderr",
     "output_type": "stream",
     "text": [
      "Using TensorFlow backend.\n"
     ]
    }
   ],
   "source": [
    "import pandas as pd\n",
    "import numpy as np\n",
    "import matplotlib.pyplot as plt\n",
    "from matplotlib import cm\n",
    "import seaborn as sns\n",
    "import itertools\n",
    "\n",
    "from sqlalchemy import create_engine\n",
    "\n",
    "import calendar\n",
    "from datetime import datetime, date, timedelta\n",
    "\n",
    "from sklearn.utils import resample\n",
    "from sklearn.preprocessing import StandardScaler\n",
    "from sklearn.base import BaseEstimator, TransformerMixin\n",
    "\n",
    "from sklearn.decomposition import PCA\n",
    "from sklearn.feature_extraction.text import CountVectorizer, TfidfVectorizer\n",
    "from textblob import TextBlob, Word\n",
    "from sklearn.base import BaseEstimator, TransformerMixin\n",
    "\n",
    "from sklearn.model_selection import train_test_split, GridSearchCV, cross_val_score\n",
    "from sklearn.metrics import accuracy_score, recall_score, confusion_matrix, classification_report,\n",
    "auc, roc_curve\n",
    "from sklearn.metrics import mean_squared_error, r2_score\n",
    "\n",
    "from sklearn.linear_model import LogisticRegression, SGDClassifier, LinearRegression, Lasso\n",
    "from sklearn.ensemble import RandomForestClassifier\n",
    "from sklearn.naive_bayes import MultinomialNB\n",
    "\n",
    "from keras.models import Sequential\n",
    "from keras.layers import Dense\n",
    "\n",
    "%matplotlib inline"
   ]
  },
  {
   "cell_type": "markdown",
   "metadata": {},
   "source": [
    "# Pre-work"
   ]
  },
  {
   "cell_type": "markdown",
   "metadata": {},
   "source": [
    "## Pre-processing class for data cleaning"
   ]
  },
  {
   "cell_type": "markdown",
   "metadata": {},
   "source": [
    "- When wanting to apply a process in production, it is important to make everyhting repeatable and with an easy implementation. We do not want to copy and past every single line of code and call functions every single time new data needs to be predicted.\n",
    "- This is where a class is important. We can gather in it all the functions and pre-processing code we worked on in part 2 and 3 of the capstone. And then run all that in one go through fit and then transform. This is a more efficient way of working.\n",
    "- Moreover, it is then easily accessible in a pipeline in conjunction with standardization and modelling."
   ]
  },
  {
   "cell_type": "markdown",
   "metadata": {},
   "source": [
    "The class was built and tested in the separate notebook [Pre-Processing](tornadoes_part4_pre_processing_class.ipynb)\n",
    "<br>It was also saved locally as a .py file so we can import it easily:"
   ]
  },
  {
   "cell_type": "code",
   "execution_count": 2,
   "metadata": {
    "collapsed": true
   },
   "outputs": [],
   "source": [
    "from tornado_preproc_class import TornadoPreprocessor"
   ]
  },
  {
   "cell_type": "markdown",
   "metadata": {},
   "source": [
    "## Function to plot confusion matrices"
   ]
  },
  {
   "cell_type": "code",
   "execution_count": 17,
   "metadata": {
    "collapsed": true
   },
   "outputs": [],
   "source": [
    "# Function to plot the confusion matrices in a nicer and more interpretable way:\n",
    "def plot_confusion_matrix(cm, classes, title='Confusion matrix', cmap=plt.cm.Blues, \n",
    "                          xlab='Predicted magnitude', ylab='True magnitude'):\n",
    "    sns.set(font_scale=1.3)\n",
    "    plt.figure(figsize=(7,5))\n",
    "    plt.imshow(cm, interpolation='nearest', cmap=cmap)\n",
    "    plt.title(title)\n",
    "    plt.colorbar()\n",
    "    tick_marks = np.arange(len(classes))\n",
    "    plt.xticks(tick_marks, classes, rotation=45)\n",
    "    plt.yticks(tick_marks, classes)\n",
    "    thresh = cm.max() / 2.\n",
    "    for i, j in itertools.product(range(cm.shape[0]), range(cm.shape[1])):\n",
    "        plt.text(j, i, cm[i, j],\n",
    "                 horizontalalignment=\"center\",\n",
    "                 color=\"white\" if cm[i, j] > thresh else \"black\")\n",
    "    plt.ylabel(ylab)\n",
    "    plt.xlabel(xlab)\n",
    "    plt.show()"
   ]
  },
  {
   "cell_type": "markdown",
   "metadata": {},
   "source": [
    "## Importing the data from local PostgreSQL"
   ]
  },
  {
   "cell_type": "code",
   "execution_count": 3,
   "metadata": {},
   "outputs": [
    {
     "data": {
      "text/plain": [
       "EF0    7661\n",
       "EF1    4822\n",
       "EF2    1441\n",
       "EF3     435\n",
       "EF4     103\n",
       "EFU      62\n",
       "EF5      14\n",
       "Name: TOR_F_SCALE, dtype: int64"
      ]
     },
     "execution_count": 3,
     "metadata": {},
     "output_type": "execute_result"
    }
   ],
   "source": [
    "# Creating engine connection to my local \"storms\" database, using sqlalchemy:\n",
    "engine_local = create_engine('postgresql://localhost:5432/storms')\n",
    "\n",
    "# Saving the data from Feb 2007 until now (since the EF scale has been in place):\n",
    "sql_query = \"\"\"\n",
    "SELECT * \n",
    "FROM tornadoes_1950_mid2017 \n",
    "WHERE \"BEGIN_YEARMONTH\" >= 200702;\n",
    "\"\"\"\n",
    "\n",
    "raw_2007_2017 = pd.read_sql(sql_query, engine_local)\n",
    "\n",
    "# Counting the number of tornadoes in each magnitude category:\n",
    "raw_2007_2017.TOR_F_SCALE.value_counts()"
   ]
  },
  {
   "cell_type": "markdown",
   "metadata": {},
   "source": [
    "## Data preparation"
   ]
  },
  {
   "cell_type": "code",
   "execution_count": 4,
   "metadata": {},
   "outputs": [
    {
     "data": {
      "text/plain": [
       "TornadoPreprocessor()"
      ]
     },
     "execution_count": 4,
     "metadata": {},
     "output_type": "execute_result"
    }
   ],
   "source": [
    "preproc = TornadoPreprocessor()\n",
    "preproc.fit(raw_2007_2017)"
   ]
  },
  {
   "cell_type": "code",
   "execution_count": 5,
   "metadata": {
    "collapsed": true
   },
   "outputs": [],
   "source": [
    "df = preproc.transform(raw_2007_2017)"
   ]
  },
  {
   "cell_type": "code",
   "execution_count": 7,
   "metadata": {},
   "outputs": [
    {
     "name": "stdout",
     "output_type": "stream",
     "text": [
      "(14538, 62) (14538, 14)\n"
     ]
    }
   ],
   "source": [
    "print raw_2007_2017.shape, df.shape"
   ]
  },
  {
   "cell_type": "code",
   "execution_count": 8,
   "metadata": {},
   "outputs": [
    {
     "data": {
      "text/html": [
       "<div>\n",
       "<style>\n",
       "    .dataframe thead tr:only-child th {\n",
       "        text-align: right;\n",
       "    }\n",
       "\n",
       "    .dataframe thead th {\n",
       "        text-align: left;\n",
       "    }\n",
       "\n",
       "    .dataframe tbody tr th {\n",
       "        vertical-align: top;\n",
       "    }\n",
       "</style>\n",
       "<table border=\"1\" class=\"dataframe\">\n",
       "  <thead>\n",
       "    <tr style=\"text-align: right;\">\n",
       "      <th></th>\n",
       "      <th>TOR_F_SCALE</th>\n",
       "      <th>TOR_LENGTH</th>\n",
       "      <th>TOR_WIDTH</th>\n",
       "      <th>Duration</th>\n",
       "      <th>AverageDate</th>\n",
       "      <th>AverageTime</th>\n",
       "      <th>Deaths</th>\n",
       "      <th>Injuries</th>\n",
       "      <th>Mean_Lat</th>\n",
       "      <th>Mean_Lon</th>\n",
       "      <th>Azimuth</th>\n",
       "      <th>State</th>\n",
       "      <th>TotalCost</th>\n",
       "      <th>Source</th>\n",
       "    </tr>\n",
       "  </thead>\n",
       "  <tbody>\n",
       "    <tr>\n",
       "      <th>0</th>\n",
       "      <td>EF0</td>\n",
       "      <td>0.27</td>\n",
       "      <td>20.0</td>\n",
       "      <td>1</td>\n",
       "      <td>208</td>\n",
       "      <td>15.855</td>\n",
       "      <td>0</td>\n",
       "      <td>0</td>\n",
       "      <td>41.7345</td>\n",
       "      <td>-93.3220</td>\n",
       "      <td>120.34</td>\n",
       "      <td>IA</td>\n",
       "      <td>0</td>\n",
       "      <td>Public</td>\n",
       "    </tr>\n",
       "    <tr>\n",
       "      <th>1</th>\n",
       "      <td>EF0</td>\n",
       "      <td>0.20</td>\n",
       "      <td>20.0</td>\n",
       "      <td>1</td>\n",
       "      <td>208</td>\n",
       "      <td>16.255</td>\n",
       "      <td>0</td>\n",
       "      <td>0</td>\n",
       "      <td>41.6694</td>\n",
       "      <td>-93.0534</td>\n",
       "      <td>117.98</td>\n",
       "      <td>IA</td>\n",
       "      <td>0</td>\n",
       "      <td>Law_Enforcement</td>\n",
       "    </tr>\n",
       "    <tr>\n",
       "      <th>2</th>\n",
       "      <td>EF1</td>\n",
       "      <td>0.29</td>\n",
       "      <td>100.0</td>\n",
       "      <td>1</td>\n",
       "      <td>208</td>\n",
       "      <td>15.575</td>\n",
       "      <td>0</td>\n",
       "      <td>0</td>\n",
       "      <td>41.7892</td>\n",
       "      <td>-93.5405</td>\n",
       "      <td>144.90</td>\n",
       "      <td>IA</td>\n",
       "      <td>60000</td>\n",
       "      <td>Trained_Spotter</td>\n",
       "    </tr>\n",
       "    <tr>\n",
       "      <th>3</th>\n",
       "      <td>EF0</td>\n",
       "      <td>1.43</td>\n",
       "      <td>50.0</td>\n",
       "      <td>3</td>\n",
       "      <td>126</td>\n",
       "      <td>15.685</td>\n",
       "      <td>0</td>\n",
       "      <td>0</td>\n",
       "      <td>37.2945</td>\n",
       "      <td>-98.6804</td>\n",
       "      <td>1.11</td>\n",
       "      <td>KS</td>\n",
       "      <td>0</td>\n",
       "      <td>Law_Enforcement</td>\n",
       "    </tr>\n",
       "    <tr>\n",
       "      <th>4</th>\n",
       "      <td>EF0</td>\n",
       "      <td>1.38</td>\n",
       "      <td>20.0</td>\n",
       "      <td>5</td>\n",
       "      <td>183</td>\n",
       "      <td>17.535</td>\n",
       "      <td>0</td>\n",
       "      <td>0</td>\n",
       "      <td>26.7200</td>\n",
       "      <td>-80.2500</td>\n",
       "      <td>0.00</td>\n",
       "      <td>FL</td>\n",
       "      <td>0</td>\n",
       "      <td>Broadcast_Media</td>\n",
       "    </tr>\n",
       "    <tr>\n",
       "      <th>5</th>\n",
       "      <td>EF0</td>\n",
       "      <td>2.77</td>\n",
       "      <td>100.0</td>\n",
       "      <td>9</td>\n",
       "      <td>111</td>\n",
       "      <td>18.875</td>\n",
       "      <td>0</td>\n",
       "      <td>0</td>\n",
       "      <td>43.6830</td>\n",
       "      <td>-98.3963</td>\n",
       "      <td>81.93</td>\n",
       "      <td>SD</td>\n",
       "      <td>0</td>\n",
       "      <td>Storm_Chaser</td>\n",
       "    </tr>\n",
       "    <tr>\n",
       "      <th>6</th>\n",
       "      <td>EF0</td>\n",
       "      <td>0.55</td>\n",
       "      <td>30.0</td>\n",
       "      <td>1</td>\n",
       "      <td>152</td>\n",
       "      <td>11.925</td>\n",
       "      <td>0</td>\n",
       "      <td>0</td>\n",
       "      <td>24.6658</td>\n",
       "      <td>-81.5240</td>\n",
       "      <td>-36.57</td>\n",
       "      <td>FL</td>\n",
       "      <td>20000</td>\n",
       "      <td>NWS_Storm_Survey</td>\n",
       "    </tr>\n",
       "    <tr>\n",
       "      <th>7</th>\n",
       "      <td>EF2</td>\n",
       "      <td>1.50</td>\n",
       "      <td>300.0</td>\n",
       "      <td>0</td>\n",
       "      <td>105</td>\n",
       "      <td>6.250</td>\n",
       "      <td>0</td>\n",
       "      <td>0</td>\n",
       "      <td>30.5300</td>\n",
       "      <td>-82.2500</td>\n",
       "      <td>64.12</td>\n",
       "      <td>FL</td>\n",
       "      <td>0</td>\n",
       "      <td>NWS_Storm_Survey</td>\n",
       "    </tr>\n",
       "    <tr>\n",
       "      <th>8</th>\n",
       "      <td>EF1</td>\n",
       "      <td>0.20</td>\n",
       "      <td>50.0</td>\n",
       "      <td>0</td>\n",
       "      <td>105</td>\n",
       "      <td>9.170</td>\n",
       "      <td>0</td>\n",
       "      <td>0</td>\n",
       "      <td>29.7200</td>\n",
       "      <td>-81.2400</td>\n",
       "      <td>64.12</td>\n",
       "      <td>FL</td>\n",
       "      <td>0</td>\n",
       "      <td>Public</td>\n",
       "    </tr>\n",
       "    <tr>\n",
       "      <th>9</th>\n",
       "      <td>EF1</td>\n",
       "      <td>3.47</td>\n",
       "      <td>150.0</td>\n",
       "      <td>5</td>\n",
       "      <td>295</td>\n",
       "      <td>16.935</td>\n",
       "      <td>0</td>\n",
       "      <td>0</td>\n",
       "      <td>33.4369</td>\n",
       "      <td>-90.5177</td>\n",
       "      <td>52.84</td>\n",
       "      <td>MS</td>\n",
       "      <td>180000</td>\n",
       "      <td>NWS_Storm_Survey</td>\n",
       "    </tr>\n",
       "  </tbody>\n",
       "</table>\n",
       "</div>"
      ],
      "text/plain": [
       "  TOR_F_SCALE  TOR_LENGTH  TOR_WIDTH  Duration  AverageDate  AverageTime  \\\n",
       "0         EF0        0.27       20.0         1          208       15.855   \n",
       "1         EF0        0.20       20.0         1          208       16.255   \n",
       "2         EF1        0.29      100.0         1          208       15.575   \n",
       "3         EF0        1.43       50.0         3          126       15.685   \n",
       "4         EF0        1.38       20.0         5          183       17.535   \n",
       "5         EF0        2.77      100.0         9          111       18.875   \n",
       "6         EF0        0.55       30.0         1          152       11.925   \n",
       "7         EF2        1.50      300.0         0          105        6.250   \n",
       "8         EF1        0.20       50.0         0          105        9.170   \n",
       "9         EF1        3.47      150.0         5          295       16.935   \n",
       "\n",
       "   Deaths  Injuries  Mean_Lat  Mean_Lon  Azimuth State  TotalCost  \\\n",
       "0       0         0   41.7345  -93.3220   120.34    IA          0   \n",
       "1       0         0   41.6694  -93.0534   117.98    IA          0   \n",
       "2       0         0   41.7892  -93.5405   144.90    IA      60000   \n",
       "3       0         0   37.2945  -98.6804     1.11    KS          0   \n",
       "4       0         0   26.7200  -80.2500     0.00    FL          0   \n",
       "5       0         0   43.6830  -98.3963    81.93    SD          0   \n",
       "6       0         0   24.6658  -81.5240   -36.57    FL      20000   \n",
       "7       0         0   30.5300  -82.2500    64.12    FL          0   \n",
       "8       0         0   29.7200  -81.2400    64.12    FL          0   \n",
       "9       0         0   33.4369  -90.5177    52.84    MS     180000   \n",
       "\n",
       "             Source  \n",
       "0            Public  \n",
       "1   Law_Enforcement  \n",
       "2   Trained_Spotter  \n",
       "3   Law_Enforcement  \n",
       "4   Broadcast_Media  \n",
       "5      Storm_Chaser  \n",
       "6  NWS_Storm_Survey  \n",
       "7  NWS_Storm_Survey  \n",
       "8            Public  \n",
       "9  NWS_Storm_Survey  "
      ]
     },
     "execution_count": 8,
     "metadata": {},
     "output_type": "execute_result"
    }
   ],
   "source": [
    "df.head(10)"
   ]
  },
  {
   "cell_type": "markdown",
   "metadata": {},
   "source": [
    "## Outliers and standardization"
   ]
  },
  {
   "cell_type": "code",
   "execution_count": 9,
   "metadata": {
    "collapsed": true
   },
   "outputs": [],
   "source": [
    "def convertEFtonb(magnitude):\n",
    "    '''Converts an EF scale string to integer of the corresponding number.\n",
    "    EFU are mostly weak tornadoes therefore their scale is set to 0'''\n",
    "    \n",
    "    scale = np.nan\n",
    "    scales = {'EF0': 0, 'EF1': 1, 'EF2': 2, 'EF3': 3, 'EF4': 4, 'EF5': 5, 'EFU': 0}\n",
    "    \n",
    "    if magnitude in scales.keys():\n",
    "        scale = scales[magnitude]\n",
    "    \n",
    "    return scale"
   ]
  },
  {
   "cell_type": "code",
   "execution_count": 10,
   "metadata": {},
   "outputs": [
    {
     "data": {
      "image/png": "[encoded data removed]",
      "text/plain": [
       "<matplotlib.figure.Figure at 0x1206e5a10>"
      ]
     },
     "metadata": {},
     "output_type": "display_data"
    }
   ],
   "source": [
    "scaler = StandardScaler()\n",
    "dfnum = df.drop(['TOR_F_SCALE','State','Source'],axis=1)\n",
    "dfnum['Magnitude'] = df['TOR_F_SCALE'].map(convertEFtonb)\n",
    "dfstd = pd.DataFrame(scaler.fit_transform(dfnum), columns=dfnum.columns)\n",
    "\n",
    "plt.figure(figsize=(14,6))\n",
    "sns.set(font_scale=1.2)\n",
    "sns.boxplot(data=dfstd, orient='h')\n",
    "plt.title(\"Box plots of numerical features\")\n",
    "plt.xlabel(\"Number of times the standard deviation\")\n",
    "plt.show()"
   ]
  },
  {
   "cell_type": "markdown",
   "metadata": {},
   "source": [
    "- As seen in part 3, the outlier for TOR_LENGTH = 100 miles has to be removed, it was most likely entered wrongly in the original database\n",
    "- The negative outliers for Mean_Lon correspond to Hawaii\n",
    "- The other outliers actually correspond to stronger tornadoes and should not be removed"
   ]
  },
  {
   "cell_type": "markdown",
   "metadata": {},
   "source": [
    "## Removing outlier and keeping only standardized numerical features:"
   ]
  },
  {
   "cell_type": "markdown",
   "metadata": {},
   "source": [
    "We saw in [part 3](tornadoes_part3_eda_modelling_nlp_tsa.ipynb) that the dummy features created from \"State\" and \"Source\" did not improve our model accuracy. We are then just going to use the numerical features. As a consequence, our modelling will run faster."
   ]
  },
  {
   "cell_type": "code",
   "execution_count": 11,
   "metadata": {
    "collapsed": true
   },
   "outputs": [],
   "source": [
    "# Removing tornado with outlier TOR_LENGTH > 20*std:\n",
    "tornado_2007_2017 = dfstd[dfstd.TOR_LENGTH<20]"
   ]
  },
  {
   "cell_type": "code",
   "execution_count": 16,
   "metadata": {},
   "outputs": [
    {
     "name": "stdout",
     "output_type": "stream",
     "text": [
      "(14538, 62) (14538, 14) (14537, 12)\n"
     ]
    }
   ],
   "source": [
    "print raw_2007_2017.shape, df.shape, tornado_2007_2017.shape"
   ]
  },
  {
   "cell_type": "code",
   "execution_count": 17,
   "metadata": {},
   "outputs": [
    {
     "data": {
      "text/html": [
       "<div>\n",
       "<style>\n",
       "    .dataframe thead tr:only-child th {\n",
       "        text-align: right;\n",
       "    }\n",
       "\n",
       "    .dataframe thead th {\n",
       "        text-align: left;\n",
       "    }\n",
       "\n",
       "    .dataframe tbody tr th {\n",
       "        vertical-align: top;\n",
       "    }\n",
       "</style>\n",
       "<table border=\"1\" class=\"dataframe\">\n",
       "  <thead>\n",
       "    <tr style=\"text-align: right;\">\n",
       "      <th></th>\n",
       "      <th>TOR_LENGTH</th>\n",
       "      <th>TOR_WIDTH</th>\n",
       "      <th>Duration</th>\n",
       "      <th>AverageDate</th>\n",
       "      <th>AverageTime</th>\n",
       "      <th>Deaths</th>\n",
       "      <th>Injuries</th>\n",
       "      <th>Mean_Lat</th>\n",
       "      <th>Mean_Lon</th>\n",
       "      <th>Azimuth</th>\n",
       "      <th>TotalCost</th>\n",
       "      <th>Magnitude</th>\n",
       "    </tr>\n",
       "  </thead>\n",
       "  <tbody>\n",
       "    <tr>\n",
       "      <th>0</th>\n",
       "      <td>-0.649575</td>\n",
       "      <td>-0.553936</td>\n",
       "      <td>-0.663909</td>\n",
       "      <td>0.71888</td>\n",
       "      <td>0.064657</td>\n",
       "      <td>-0.048934</td>\n",
       "      <td>-0.06017</td>\n",
       "      <td>0.992225</td>\n",
       "      <td>-0.148975</td>\n",
       "      <td>1.408556</td>\n",
       "      <td>-0.0423</td>\n",
       "      <td>-0.775497</td>\n",
       "    </tr>\n",
       "    <tr>\n",
       "      <th>1</th>\n",
       "      <td>-0.665453</td>\n",
       "      <td>-0.553936</td>\n",
       "      <td>-0.663909</td>\n",
       "      <td>0.71888</td>\n",
       "      <td>0.142239</td>\n",
       "      <td>-0.048934</td>\n",
       "      <td>-0.06017</td>\n",
       "      <td>0.978331</td>\n",
       "      <td>-0.115564</td>\n",
       "      <td>1.354156</td>\n",
       "      <td>-0.0423</td>\n",
       "      <td>-0.775497</td>\n",
       "    </tr>\n",
       "  </tbody>\n",
       "</table>\n",
       "</div>"
      ],
      "text/plain": [
       "   TOR_LENGTH  TOR_WIDTH  Duration  AverageDate  AverageTime    Deaths  \\\n",
       "0   -0.649575  -0.553936 -0.663909      0.71888     0.064657 -0.048934   \n",
       "1   -0.665453  -0.553936 -0.663909      0.71888     0.142239 -0.048934   \n",
       "\n",
       "   Injuries  Mean_Lat  Mean_Lon   Azimuth  TotalCost  Magnitude  \n",
       "0  -0.06017  0.992225 -0.148975  1.408556    -0.0423  -0.775497  \n",
       "1  -0.06017  0.978331 -0.115564  1.354156    -0.0423  -0.775497  "
      ]
     },
     "execution_count": 17,
     "metadata": {},
     "output_type": "execute_result"
    }
   ],
   "source": [
    "tornado_2007_2017.head(2)"
   ]
  },
  {
   "cell_type": "markdown",
   "metadata": {},
   "source": [
    "# Modelling using numerical features"
   ]
  },
  {
   "cell_type": "markdown",
   "metadata": {},
   "source": [
    "## Target / Feature matrix"
   ]
  },
  {
   "cell_type": "code",
   "execution_count": 12,
   "metadata": {
    "collapsed": true
   },
   "outputs": [],
   "source": [
    "X1 = tornado_2007_2017.drop(['Magnitude'], axis=1)\n",
    "y1 = raw_2007_2017[raw_2007_2017.TOR_LENGTH<50]['TOR_F_SCALE']"
   ]
  },
  {
   "cell_type": "markdown",
   "metadata": {},
   "source": [
    "## Train/test split"
   ]
  },
  {
   "cell_type": "code",
   "execution_count": 15,
   "metadata": {
    "collapsed": true
   },
   "outputs": [],
   "source": [
    "Xtrain1, Xtest1, ytrain1, ytest1 = train_test_split(X1, y1, test_size=0.3, stratify=y1,\n",
    "                                                    random_state=31)"
   ]
  },
  {
   "cell_type": "markdown",
   "metadata": {},
   "source": [
    "## Baseline"
   ]
  },
  {
   "cell_type": "code",
   "execution_count": 14,
   "metadata": {},
   "outputs": [
    {
     "name": "stdout",
     "output_type": "stream",
     "text": [
      "Accuracy | Test\t\t | Baseline\t\t | EF0 tornados:\t0.527\n"
     ]
    }
   ],
   "source": [
    "accuracy_baseline = ytest1.value_counts().get_values()[0]/float(ytest1.count())\n",
    "print \"Accuracy | Test\\t\\t | Baseline\\t\\t | EF0 tornados:\\t\", round(accuracy_baseline, 3)"
   ]
  },
  {
   "cell_type": "markdown",
   "metadata": {},
   "source": [
    "## Random Forest"
   ]
  },
  {
   "cell_type": "markdown",
   "metadata": {},
   "source": [
    "Extensive modelling tests were performed in [part 3](Capstone_Yves_Tornadoes_Part3.ipynb) of the capstone. The next model is our best one obtained in part 3. This is our new reference."
   ]
  },
  {
   "cell_type": "code",
   "execution_count": 16,
   "metadata": {},
   "outputs": [
    {
     "name": "stdout",
     "output_type": "stream",
     "text": [
      "Accuracy | Test\t\t | Random Forest\t | Optimized params:\t0.732\n"
     ]
    }
   ],
   "source": [
    "# Taking the best RF hyperparameters from part 3:\n",
    "rf6 = RandomForestClassifier(criterion='entropy', max_depth=18, max_features=0.4, \n",
    "                             min_samples_leaf=1, min_samples_split=9,\n",
    "                             n_estimators=72, random_state=31)\n",
    "rf6.fit(Xtrain1, ytrain1)\n",
    "\n",
    "yhat1_rf6 = rf6.predict(Xtest1)\n",
    "accuracy_rf6 = accuracy_score(ytest1, yhat1_rf6)\n",
    "print \"Accuracy | Test\\t\\t | Random Forest\\t | Optimized params:\\t\", round(accuracy_rf6, 3)"
   ]
  },
  {
   "cell_type": "code",
   "execution_count": 18,
   "metadata": {},
   "outputs": [
    {
     "data": {
      "image/png": "[encoded data removed]",
      "text/plain": [
       "<matplotlib.figure.Figure at 0x11ac24150>"
      ]
     },
     "metadata": {},
     "output_type": "display_data"
    }
   ],
   "source": [
    "# Computing the confusion matrix\n",
    "confmatrix_rf6 = confusion_matrix(ytest1, yhat1_rf6)\n",
    "\n",
    "# Plotting it using the function:\n",
    "plot_confusion_matrix(confmatrix_rf6, rf6.classes_,\n",
    "                      'Confusion matrix - Random Forest - Optimized hyperparameters',\n",
    "                      xlab='Predicted EF scale magnitude', ylab='True EF scale magnitude')\n",
    "plt.show()"
   ]
  },
  {
   "cell_type": "code",
   "execution_count": 20,
   "metadata": {},
   "outputs": [
    {
     "name": "stdout",
     "output_type": "stream",
     "text": [
      "Classification report from our optimized random forest:\n",
      "             precision    recall  f1-score   support\n",
      "\n",
      "        EF0       0.82      0.87      0.84      2298\n",
      "        EF1       0.64      0.67      0.65      1447\n",
      "        EF2       0.53      0.40      0.46       432\n",
      "        EF3       0.65      0.35      0.46       131\n",
      "        EF4       0.67      0.26      0.37        31\n",
      "        EF5       0.00      0.00      0.00         4\n",
      "        EFU       0.00      0.00      0.00        19\n",
      "\n",
      "avg / total       0.72      0.73      0.72      4362\n",
      "\n"
     ]
    },
    {
     "name": "stderr",
     "output_type": "stream",
     "text": [
      "/Users/Yves/anaconda2/lib/python2.7/site-packages/sklearn/metrics/classification.py:1113: UndefinedMetricWarning: Precision and F-score are ill-defined and being set to 0.0 in labels with no predicted samples.\n",
      "  'precision', 'predicted', average, warn_for)\n"
     ]
    }
   ],
   "source": [
    "clasreport_rf6 = classification_report(ytest1, yhat1_rf6)\n",
    "print \"Classification report from our optimized random forest:\\n\", clasreport_rf6"
   ]
  },
  {
   "cell_type": "markdown",
   "metadata": {},
   "source": [
    "As we had noticed in part 3 with our analysis of the confusion matrix, the weaker tornadoes are well predicted, but the stronger ones less. This is clearly visible in the classification report. \n",
    "<br>EF0 precision and recall scores are great. However EF2 to EF5 tornadoes tend to be predicted as weaker. \n",
    "<br>The is due to the strong imbalance between classes (strong tornadoes are rare)\n",
    "<br>The precision and recall scores can benefit from upsampling the rarer events. This is the next step we are going to perform. "
   ]
  },
  {
   "cell_type": "markdown",
   "metadata": {},
   "source": [
    "## Upsampling and redoing the modelling"
   ]
  },
  {
   "cell_type": "markdown",
   "metadata": {},
   "source": [
    "The upsampling will be performed on the trained dataset to try and improve the precision and recall of the different categories, except the EF0 ones.\n",
    "<br>The model scoring and validation will still be done on the test dataset."
   ]
  },
  {
   "cell_type": "code",
   "execution_count": 23,
   "metadata": {},
   "outputs": [
    {
     "data": {
      "text/plain": [
       "(10175, 11)"
      ]
     },
     "execution_count": 23,
     "metadata": {},
     "output_type": "execute_result"
    }
   ],
   "source": [
    "# Checking the original dimensions of the train features:\n",
    "Xtrain1.shape"
   ]
  },
  {
   "cell_type": "markdown",
   "metadata": {},
   "source": [
    "**Example \"stolen\" from Raja (thank you!):**<br>\n",
    "table_train_r=table_train[table_train['Relegated']==1]<br>\n",
    "table_train_s=table_train[table_train['Relegated']==0]\n",
    "\n",
    "table_train_r_upsample = resample(table_train_r, replace=True, n_samples=table_train_s.shape[0])<br>\n",
    "table_train=pd.concat([table_train_r_upsample,table_train_s],axis=0)"
   ]
  },
  {
   "cell_type": "code",
   "execution_count": 21,
   "metadata": {},
   "outputs": [
    {
     "name": "stdout",
     "output_type": "stream",
     "text": [
      "(10175, 12)\n"
     ]
    },
    {
     "data": {
      "text/html": [
       "<div>\n",
       "<style>\n",
       "    .dataframe thead tr:only-child th {\n",
       "        text-align: right;\n",
       "    }\n",
       "\n",
       "    .dataframe thead th {\n",
       "        text-align: left;\n",
       "    }\n",
       "\n",
       "    .dataframe tbody tr th {\n",
       "        vertical-align: top;\n",
       "    }\n",
       "</style>\n",
       "<table border=\"1\" class=\"dataframe\">\n",
       "  <thead>\n",
       "    <tr style=\"text-align: right;\">\n",
       "      <th></th>\n",
       "      <th>TOR_LENGTH</th>\n",
       "      <th>TOR_WIDTH</th>\n",
       "      <th>Duration</th>\n",
       "      <th>AverageDate</th>\n",
       "      <th>AverageTime</th>\n",
       "      <th>Deaths</th>\n",
       "      <th>Injuries</th>\n",
       "      <th>Mean_Lat</th>\n",
       "      <th>Mean_Lon</th>\n",
       "      <th>Azimuth</th>\n",
       "      <th>TotalCost</th>\n",
       "      <th>TOR_F_SCALE</th>\n",
       "    </tr>\n",
       "  </thead>\n",
       "  <tbody>\n",
       "    <tr>\n",
       "      <th>13291</th>\n",
       "      <td>-0.658648</td>\n",
       "      <td>-0.452255</td>\n",
       "      <td>-0.521007</td>\n",
       "      <td>0.421973</td>\n",
       "      <td>0.038473</td>\n",
       "      <td>-0.048934</td>\n",
       "      <td>-0.06017</td>\n",
       "      <td>0.243112</td>\n",
       "      <td>1.263833</td>\n",
       "      <td>0.354663</td>\n",
       "      <td>-0.041447</td>\n",
       "      <td>EF0</td>\n",
       "    </tr>\n",
       "    <tr>\n",
       "      <th>1056</th>\n",
       "      <td>2.473960</td>\n",
       "      <td>0.869589</td>\n",
       "      <td>1.908334</td>\n",
       "      <td>1.080332</td>\n",
       "      <td>0.219821</td>\n",
       "      <td>-0.048934</td>\n",
       "      <td>-0.06017</td>\n",
       "      <td>1.206906</td>\n",
       "      <td>1.025230</td>\n",
       "      <td>0.418744</td>\n",
       "      <td>0.156800</td>\n",
       "      <td>EF2</td>\n",
       "    </tr>\n",
       "  </tbody>\n",
       "</table>\n",
       "</div>"
      ],
      "text/plain": [
       "       TOR_LENGTH  TOR_WIDTH  Duration  AverageDate  AverageTime    Deaths  \\\n",
       "13291   -0.658648  -0.452255 -0.521007     0.421973     0.038473 -0.048934   \n",
       "1056     2.473960   0.869589  1.908334     1.080332     0.219821 -0.048934   \n",
       "\n",
       "       Injuries  Mean_Lat  Mean_Lon   Azimuth  TotalCost TOR_F_SCALE  \n",
       "13291  -0.06017  0.243112  1.263833  0.354663  -0.041447         EF0  \n",
       "1056   -0.06017  1.206906  1.025230  0.418744   0.156800         EF2  "
      ]
     },
     "execution_count": 21,
     "metadata": {},
     "output_type": "execute_result"
    }
   ],
   "source": [
    "# Re-incorporating the magnitude:\n",
    "Xtrain2 = pd.concat([Xtrain1, pd.DataFrame(ytrain1)], axis=1)\n",
    "print Xtrain2.shape\n",
    "Xtrain2.head(2)"
   ]
  },
  {
   "cell_type": "code",
   "execution_count": 22,
   "metadata": {
    "collapsed": true
   },
   "outputs": [],
   "source": [
    "# Creating a dictionary of dataframes, one for each magnitude:\n",
    "Xtrain2_perMag = {}\n",
    "for mag in ['EFU', 'EF0', 'EF1', 'EF2', 'EF3', 'EF4', 'EF5']:\n",
    "    Xtrain2_perMag[mag] = Xtrain2[Xtrain2['TOR_F_SCALE']==mag]"
   ]
  },
  {
   "cell_type": "code",
   "execution_count": 23,
   "metadata": {},
   "outputs": [
    {
     "name": "stdout",
     "output_type": "stream",
     "text": [
      "EF0 Original shape :\t(5362, 12) \tUpsample shape EF0: (5362, 12)\n",
      "EFU Original shape :\t(43, 12) \tUpsample shape EFU: (5362, 12)\n",
      "EF1 Original shape :\t(3375, 12) \tUpsample shape EF1: (5362, 12)\n",
      "EF2 Original shape :\t(1009, 12) \tUpsample shape EF2: (5362, 12)\n",
      "EF3 Original shape :\t(304, 12) \tUpsample shape EF3: (5362, 12)\n",
      "EF4 Original shape :\t(72, 12) \tUpsample shape EF4: (5362, 12)\n",
      "EF5 Original shape :\t(10, 12) \tUpsample shape EF5: (5362, 12)\n"
     ]
    }
   ],
   "source": [
    "# Upsampling each dataframe based on the number of rows of the majority class EF0:\n",
    "Xtrain2_upsampled = {}\n",
    "\n",
    "for mag in ['EF0', 'EFU', 'EF1', 'EF2', 'EF3', 'EF4', 'EF5']:\n",
    "    \n",
    "    if mag == 'EF0':\n",
    "        Xtrain2_upsampled['EF0'] = Xtrain2_perMag['EF0']\n",
    "    else:\n",
    "        # Bootstrapping method is used:\n",
    "        Xtrain2_upsampled[mag] = resample(Xtrain2_perMag[mag], replace=True,\n",
    "                                          n_samples=Xtrain2_perMag['EF0'].shape[0],\n",
    "                                          random_state=31)\n",
    "    # QCs:\n",
    "    print \"{} Original shape :\\t\".format(mag), Xtrain2_perMag[mag].shape,\\\n",
    "          \"\\tUpsample shape {}:\".format(mag), Xtrain2_upsampled[mag].shape\n",
    "        "
   ]
  },
  {
   "cell_type": "code",
   "execution_count": 24,
   "metadata": {},
   "outputs": [
    {
     "name": "stdout",
     "output_type": "stream",
     "text": [
      "(37534, 12)\n"
     ]
    }
   ],
   "source": [
    "# Concatenating all the upsampled dataframes\n",
    "Xtrain2_df = pd.concat([Xtrain2_upsampled['EF0'], Xtrain2_upsampled['EF1'], Xtrain2_upsampled['EF2'], \n",
    "                        Xtrain2_upsampled['EF3'], Xtrain2_upsampled['EF4'], Xtrain2_upsampled['EF5'],\n",
    "                        Xtrain2_upsampled['EFU']], ignore_index=True, axis=0)\n",
    "print Xtrain2_df.shape"
   ]
  },
  {
   "cell_type": "code",
   "execution_count": 25,
   "metadata": {},
   "outputs": [
    {
     "name": "stdout",
     "output_type": "stream",
     "text": [
      "(37534, 11) (37534,)\n"
     ]
    }
   ],
   "source": [
    "# Recreating the feature matrix and target for modelling:\n",
    "ytrain2 = Xtrain2_df.TOR_F_SCALE\n",
    "Xtrain2_df.drop(['TOR_F_SCALE'], axis=1, inplace=True)\n",
    "print Xtrain2_df.shape, ytrain2.shape"
   ]
  },
  {
   "cell_type": "code",
   "execution_count": 26,
   "metadata": {},
   "outputs": [
    {
     "name": "stdout",
     "output_type": "stream",
     "text": [
      "Accuracy | Test\t\t | Random Forest\t | Original sampling\t | Part 3 params:\t0.723\n"
     ]
    }
   ],
   "source": [
    "# Taking the best RF hyperparameters from part 3:\n",
    "rf7 = RandomForestClassifier(criterion='entropy', max_depth=18, max_features=0.4, min_samples_leaf=1,\n",
    "                             min_samples_split=9, n_estimators=72, random_state=31)\n",
    "rf7.fit(Xtrain2_df, ytrain2)\n",
    "\n",
    "yhat1_rf7 = rf7.predict(Xtest1)\n",
    "accuracy_rf7 = accuracy_score(ytest1, yhat1_rf7)\n",
    "print \"Accuracy | Test\\t\\t | Random Forest\\t | Original sampling\\t | Part 3 params:\\t\", round(accuracy_rf7, 3)"
   ]
  },
  {
   "cell_type": "code",
   "execution_count": 27,
   "metadata": {},
   "outputs": [
    {
     "data": {
      "image/png": "[encoded data removed]",
      "text/plain": [
       "<matplotlib.figure.Figure at 0x11c970150>"
      ]
     },
     "metadata": {},
     "output_type": "display_data"
    }
   ],
   "source": [
    "# Computing the confusion matrix\n",
    "confmatrix_rf7 = confusion_matrix(ytest1, rf7.predict(Xtest1))\n",
    "\n",
    "# Plotting it using the function:\n",
    "plot_confusion_matrix(confmatrix_rf7, rf7.classes_,\n",
    "                      'Confusion matrix - Random Forest - Upsampling',\n",
    "                      xlab='Predicted EF scale magnitude', ylab='True EF scale magnitude')\n",
    "plt.show()"
   ]
  },
  {
   "cell_type": "code",
   "execution_count": 28,
   "metadata": {},
   "outputs": [
    {
     "name": "stdout",
     "output_type": "stream",
     "text": [
      "Classification report after upsampling:\n",
      "             precision    recall  f1-score   support\n",
      "\n",
      "        EF0       0.83      0.85      0.84      2298\n",
      "        EF1       0.64      0.64      0.64      1447\n",
      "        EF2       0.47      0.50      0.49       432\n",
      "        EF3       0.53      0.40      0.45       131\n",
      "        EF4       0.79      0.35      0.49        31\n",
      "        EF5       0.40      0.50      0.44         4\n",
      "        EFU       0.33      0.05      0.09        19\n",
      "\n",
      "avg / total       0.72      0.72      0.72      4362\n",
      "\n"
     ]
    }
   ],
   "source": [
    "clasreport_rf7 = classification_report(ytest1, yhat1_rf7)\n",
    "print \"Classification report after upsampling:\\n\", clasreport_rf7"
   ]
  },
  {
   "cell_type": "markdown",
   "metadata": {},
   "source": [
    "Comments on the confusion matrix and classification report:\n",
    "- This is a successful test. The true positives of EF1 to EF5 tornadoes has increased. The upsampling helps predicting, for each magnitude over EF0, the majority of tornadoes in their true magnitude. It was not the case before.\n",
    "- Precision and recall of EF5 tornadoes has considerably improved (none were preductied correctly before upsampling).\n",
    "- Nevertheless, EF0 tornadoes are not predicted as well. This is why overall the accuracy has decreased from 0.732 to 0.723.\n",
    "- Using still the upsampled data, we are now going to fine tune the Random Forest hyper parameters."
   ]
  },
  {
   "cell_type": "code",
   "execution_count": 105,
   "metadata": {
    "collapsed": true
   },
   "outputs": [],
   "source": [
    "# Flag to specify if GridSearch has to be redone or not:\n",
    "# Just not to rerun accidently the following whole gridsearch (which takes ages) accidently\n",
    "redo_RFgridsearch1 = False"
   ]
  },
  {
   "cell_type": "code",
   "execution_count": 37,
   "metadata": {},
   "outputs": [
    {
     "name": "stdout",
     "output_type": "stream",
     "text": [
      "Fitting 5 folds for each of 96 candidates, totalling 480 fits\n"
     ]
    },
    {
     "name": "stderr",
     "output_type": "stream",
     "text": [
      "[Parallel(n_jobs=2)]: Done  46 tasks      | elapsed:  3.2min\n",
      "[Parallel(n_jobs=2)]: Done 196 tasks      | elapsed: 16.7min\n",
      "[Parallel(n_jobs=2)]: Done 446 tasks      | elapsed: 41.2min\n",
      "[Parallel(n_jobs=2)]: Done 480 out of 480 | elapsed: 45.2min finished\n"
     ]
    },
    {
     "name": "stdout",
     "output_type": "stream",
     "text": [
      "The optimized parameters are:\n",
      "{'min_samples_leaf': 1, 'n_estimators': 80, 'min_samples_split': 8, 'criterion': 'entropy', 'max_features': 0.4, 'max_depth': 24}\n",
      "\n",
      "Accuracy | Train CV5\t | Random Forest\t | Upsampling\t | Optimal params:\t0.958\n"
     ]
    }
   ],
   "source": [
    "if redo_RFgridsearch1:\n",
    "    rf1 = RandomForestClassifier(random_state=31)\n",
    "    params_randfor_v1 = {'criterion': ['entropy'],\n",
    "                         'max_depth': [16,18,20,22,24,26],\n",
    "                         'max_features': [0.3,0.4,0.5,0.6],\n",
    "                         'n_estimators': [80],\n",
    "                         'min_samples_split': [8,9,10,11],\n",
    "                         'min_samples_leaf': [1]\n",
    "                        }\n",
    "\n",
    "    rf8 = GridSearchCV(rf1, param_grid=params_randfor_v1, cv=5, verbose=1, n_jobs=2)\n",
    "\n",
    "    rf8.fit(Xtrain2_df, ytrain2)\n",
    "    print \"The optimized parameters are:\\n\", rf8.best_params_\n",
    "    print \"\\nAccuracy | Train CV5\\t | Random Forest\\t | Upsampling\\t | Optimal params:\\t\", round(rf8.best_score_, 3)"
   ]
  },
  {
   "cell_type": "code",
   "execution_count": 31,
   "metadata": {},
   "outputs": [
    {
     "name": "stdout",
     "output_type": "stream",
     "text": [
      "Accuracy | Test\t\t | Random Forest\t | Upsampling\t | Optimized params:\t0.722\n"
     ]
    }
   ],
   "source": [
    "if redo_RFgridsearch1:\n",
    "    yhat2_rf8 = rf8.best_estimator_.predict(Xtest1)\n",
    "else:\n",
    "    rf8 = RandomForestClassifier(random_state=31, min_samples_leaf=1, n_estimators=80, \n",
    "                                 min_samples_split=8,\n",
    "                                 criterion='entropy', max_features=0.4, max_depth=24)\n",
    "    rf8.fit(Xtrain2_df, ytrain2)\n",
    "    yhat2_rf8 = rf8.predict(Xtest1)\n",
    "accuracy_rf8 = accuracy_score(ytest1, yhat2_rf8)\n",
    "print \"Accuracy | Test\\t\\t | Random Forest\\t | Upsampling\\t | Optimized params:\\t\", round(accuracy_rf8, 3)"
   ]
  },
  {
   "cell_type": "markdown",
   "metadata": {},
   "source": [
    "#### Comments about GridSearch on upsampled data:\n",
    "- This is a clear example of overfitting: the train set gives an excellent score of 96% whereas the test gives 72%.\n",
    "- It was kind of expected with an upsampled train dataset. It is not recommended to gridsearch upsampled data!"
   ]
  },
  {
   "cell_type": "markdown",
   "metadata": {},
   "source": [
    "## Conclusions and summary statistics"
   ]
  },
  {
   "cell_type": "markdown",
   "metadata": {},
   "source": [
    "### Accuracy, precision and recall:"
   ]
  },
  {
   "cell_type": "markdown",
   "metadata": {},
   "source": [
    "+ **Accuracy**: overall correct prediction of a tornado, whatever its scale. <br>As there is a big imabalance, this statistic mostly shows how well the EF0 and EF1 tornadoes are correctly predicted.\n",
    "<br><br>\n",
    "+ True Postive of an EFx tornado (with x varying from 0 to 5): number of correctly predicted EFx tornadoes.\n",
    "+ False Negatives of an EFx tornado: total number of EFx tornadoes wrongly predicted as another type.\n",
    "+ False Postives of an EFx tornado: total number of tornadoes wrongly predicted as an EFx tornado.\n",
    "<br><br>\n",
    "+ **Recall of an EFx tornado**: $$ Recall = \\frac{TP}{TP + FN}\\ $$ It is a useful statistic to measure how well a certain type of tornado is predicted.\n",
    "    - The lower the recall of EFx, the higher the number of EFx tornadoes are wrongly predicted.\n",
    "    - The higher the recall of EFx, the better the EFx tornado is predicted.\n",
    "<br><br>\n",
    "+ **Precision of an EFx tornado**: $$ Precision = \\frac{TP}{TP + FP}\\ $$ It measures how well other types of tornadoes are not predicted as EFx.\n",
    "    - The lower the precision of EFx, the higher the number of other types of tornadoes are predicted as EFx.\n",
    "    - The higher the precision of EFx, the lower other types of tornadoes are wrongly predicted as EFx.\n",
    "<br><br>\n",
    "+ **To summarize:**\n",
    "    - **The accuracy gives us a measure of how well the model performs globally.**\n",
    "    - **The recall gives us a detailed measure of how well each type of tornado is correctly predicted. Because of the big imbalance between weaker and stronger tornadoes, this is the most important measure in this project.**\n",
    "\n",
    "Let's compare the statistics with / without upsampling. \n",
    "<br>*Note: the different statistics were computed on the test set*"
   ]
  },
  {
   "cell_type": "markdown",
   "metadata": {},
   "source": [
    "| Accuracy | Model description | Score |\n",
    "| :---: | :--- | :--- |\n",
    "|  | Baseline | 0.527 |\n",
    "|  | Random Forest - no upsampling | 0.732 |\n",
    "|  | Random Forest - with upsampling | 0.723 |\n",
    "\n",
    "| Random Forest Recall | No upsampling | With upsampling |\n",
    "| :---: | :---: | :---: |\n",
    "| EF0 | 0.87 | 0.85 |\n",
    "| EF1 | 0.67 | 0.64 |\n",
    "| EF2 | 0.40 | 0.50 |\n",
    "| EF3 | 0.35 | 0.40 |\n",
    "| EF4 | 0.26 | 0.35 |\n",
    "| EF5 | 0.00 | 0.50 |\n",
    "\n",
    "*For comparisons with other types of models including logistic regression, please check [part 3](Capstone_Yves_Tornadoes_Part3.ipynb)*"
   ]
  },
  {
   "cell_type": "markdown",
   "metadata": {},
   "source": [
    "**The Random Forest model generated by upsampling the training set is the best option to an efficient prediction of all types of tornadoes.**"
   ]
  },
  {
   "cell_type": "markdown",
   "metadata": {},
   "source": [
    "### ROC curves"
   ]
  },
  {
   "cell_type": "markdown",
   "metadata": {},
   "source": [
    "- The Receiver Operating Characteristic curve is another graph used in statistics to compare models. It is defined for binomial targets. \n",
    "- If used in a multinomial case, it compares each class with the total of remaining classes as one separate class.\n",
    "- It represents the True Postive Rate (or recall) as a function of the False Positive Rate (FPR). Logically, a good model will therefore produce a point close to (0;1) as a recall of 1 and a FPR of 0 correspond to perfection."
   ]
  },
  {
   "cell_type": "markdown",
   "metadata": {},
   "source": [
    "#### Probabilities"
   ]
  },
  {
   "cell_type": "markdown",
   "metadata": {},
   "source": [
    "We first have to derive the associated probabilities for each tornado"
   ]
  },
  {
   "cell_type": "code",
   "execution_count": 57,
   "metadata": {
    "scrolled": true
   },
   "outputs": [
    {
     "data": {
      "text/html": [
       "<div>\n",
       "<style>\n",
       "    .dataframe thead tr:only-child th {\n",
       "        text-align: right;\n",
       "    }\n",
       "\n",
       "    .dataframe thead th {\n",
       "        text-align: left;\n",
       "    }\n",
       "\n",
       "    .dataframe tbody tr th {\n",
       "        vertical-align: top;\n",
       "    }\n",
       "</style>\n",
       "<table border=\"1\" class=\"dataframe\">\n",
       "  <thead>\n",
       "    <tr style=\"text-align: right;\">\n",
       "      <th></th>\n",
       "      <th>TOR_F_SCALE</th>\n",
       "      <th>pred_rf6</th>\n",
       "      <th>pred_rf7</th>\n",
       "      <th>rf6_EF0</th>\n",
       "      <th>rf6_EF1</th>\n",
       "      <th>rf6_EF2</th>\n",
       "      <th>rf6_EF3</th>\n",
       "      <th>rf6_EF4</th>\n",
       "      <th>rf6_EF5</th>\n",
       "      <th>rf6_EFU</th>\n",
       "      <th>rf7_EF0</th>\n",
       "      <th>rf7_EF1</th>\n",
       "      <th>rf7_EF2</th>\n",
       "      <th>rf7_EF3</th>\n",
       "      <th>rf7_EF4</th>\n",
       "      <th>rf7_EF5</th>\n",
       "      <th>rf7_EFU</th>\n",
       "    </tr>\n",
       "  </thead>\n",
       "  <tbody>\n",
       "    <tr>\n",
       "      <th>0</th>\n",
       "      <td>EF1</td>\n",
       "      <td>EF0</td>\n",
       "      <td>EF0</td>\n",
       "      <td>0.534267</td>\n",
       "      <td>0.337432</td>\n",
       "      <td>0.117267</td>\n",
       "      <td>0.001389</td>\n",
       "      <td>0.000000</td>\n",
       "      <td>0.0</td>\n",
       "      <td>0.009645</td>\n",
       "      <td>0.382310</td>\n",
       "      <td>0.346674</td>\n",
       "      <td>0.271016</td>\n",
       "      <td>0.000000</td>\n",
       "      <td>0.0</td>\n",
       "      <td>0.0</td>\n",
       "      <td>0.000000</td>\n",
       "    </tr>\n",
       "    <tr>\n",
       "      <th>1</th>\n",
       "      <td>EF1</td>\n",
       "      <td>EF1</td>\n",
       "      <td>EF1</td>\n",
       "      <td>0.300914</td>\n",
       "      <td>0.620458</td>\n",
       "      <td>0.076578</td>\n",
       "      <td>0.002050</td>\n",
       "      <td>0.000000</td>\n",
       "      <td>0.0</td>\n",
       "      <td>0.000000</td>\n",
       "      <td>0.282633</td>\n",
       "      <td>0.597741</td>\n",
       "      <td>0.119626</td>\n",
       "      <td>0.000000</td>\n",
       "      <td>0.0</td>\n",
       "      <td>0.0</td>\n",
       "      <td>0.000000</td>\n",
       "    </tr>\n",
       "    <tr>\n",
       "      <th>2</th>\n",
       "      <td>EF0</td>\n",
       "      <td>EF0</td>\n",
       "      <td>EF0</td>\n",
       "      <td>0.739870</td>\n",
       "      <td>0.260130</td>\n",
       "      <td>0.000000</td>\n",
       "      <td>0.000000</td>\n",
       "      <td>0.000000</td>\n",
       "      <td>0.0</td>\n",
       "      <td>0.000000</td>\n",
       "      <td>0.825108</td>\n",
       "      <td>0.174892</td>\n",
       "      <td>0.000000</td>\n",
       "      <td>0.000000</td>\n",
       "      <td>0.0</td>\n",
       "      <td>0.0</td>\n",
       "      <td>0.000000</td>\n",
       "    </tr>\n",
       "    <tr>\n",
       "      <th>3</th>\n",
       "      <td>EF0</td>\n",
       "      <td>EF1</td>\n",
       "      <td>EF1</td>\n",
       "      <td>0.205096</td>\n",
       "      <td>0.582587</td>\n",
       "      <td>0.169694</td>\n",
       "      <td>0.035431</td>\n",
       "      <td>0.007192</td>\n",
       "      <td>0.0</td>\n",
       "      <td>0.000000</td>\n",
       "      <td>0.212897</td>\n",
       "      <td>0.483391</td>\n",
       "      <td>0.275934</td>\n",
       "      <td>0.027778</td>\n",
       "      <td>0.0</td>\n",
       "      <td>0.0</td>\n",
       "      <td>0.000000</td>\n",
       "    </tr>\n",
       "    <tr>\n",
       "      <th>4</th>\n",
       "      <td>EF0</td>\n",
       "      <td>EF2</td>\n",
       "      <td>EF2</td>\n",
       "      <td>0.106334</td>\n",
       "      <td>0.440584</td>\n",
       "      <td>0.449378</td>\n",
       "      <td>0.003704</td>\n",
       "      <td>0.000000</td>\n",
       "      <td>0.0</td>\n",
       "      <td>0.000000</td>\n",
       "      <td>0.065985</td>\n",
       "      <td>0.379462</td>\n",
       "      <td>0.540664</td>\n",
       "      <td>0.013889</td>\n",
       "      <td>0.0</td>\n",
       "      <td>0.0</td>\n",
       "      <td>0.000000</td>\n",
       "    </tr>\n",
       "    <tr>\n",
       "      <th>5</th>\n",
       "      <td>EF0</td>\n",
       "      <td>EF0</td>\n",
       "      <td>EF0</td>\n",
       "      <td>0.807659</td>\n",
       "      <td>0.138022</td>\n",
       "      <td>0.018519</td>\n",
       "      <td>0.000000</td>\n",
       "      <td>0.000000</td>\n",
       "      <td>0.0</td>\n",
       "      <td>0.035801</td>\n",
       "      <td>0.803041</td>\n",
       "      <td>0.171959</td>\n",
       "      <td>0.025000</td>\n",
       "      <td>0.000000</td>\n",
       "      <td>0.0</td>\n",
       "      <td>0.0</td>\n",
       "      <td>0.000000</td>\n",
       "    </tr>\n",
       "    <tr>\n",
       "      <th>6</th>\n",
       "      <td>EF1</td>\n",
       "      <td>EF1</td>\n",
       "      <td>EF1</td>\n",
       "      <td>0.368901</td>\n",
       "      <td>0.600438</td>\n",
       "      <td>0.030661</td>\n",
       "      <td>0.000000</td>\n",
       "      <td>0.000000</td>\n",
       "      <td>0.0</td>\n",
       "      <td>0.000000</td>\n",
       "      <td>0.383022</td>\n",
       "      <td>0.538993</td>\n",
       "      <td>0.077985</td>\n",
       "      <td>0.000000</td>\n",
       "      <td>0.0</td>\n",
       "      <td>0.0</td>\n",
       "      <td>0.000000</td>\n",
       "    </tr>\n",
       "    <tr>\n",
       "      <th>7</th>\n",
       "      <td>EF0</td>\n",
       "      <td>EF0</td>\n",
       "      <td>EF0</td>\n",
       "      <td>0.582347</td>\n",
       "      <td>0.402375</td>\n",
       "      <td>0.015278</td>\n",
       "      <td>0.000000</td>\n",
       "      <td>0.000000</td>\n",
       "      <td>0.0</td>\n",
       "      <td>0.000000</td>\n",
       "      <td>0.520041</td>\n",
       "      <td>0.460327</td>\n",
       "      <td>0.005743</td>\n",
       "      <td>0.013889</td>\n",
       "      <td>0.0</td>\n",
       "      <td>0.0</td>\n",
       "      <td>0.000000</td>\n",
       "    </tr>\n",
       "    <tr>\n",
       "      <th>8</th>\n",
       "      <td>EF1</td>\n",
       "      <td>EF0</td>\n",
       "      <td>EF0</td>\n",
       "      <td>0.800220</td>\n",
       "      <td>0.198539</td>\n",
       "      <td>0.001157</td>\n",
       "      <td>0.000000</td>\n",
       "      <td>0.000000</td>\n",
       "      <td>0.0</td>\n",
       "      <td>0.000084</td>\n",
       "      <td>0.654793</td>\n",
       "      <td>0.310458</td>\n",
       "      <td>0.034749</td>\n",
       "      <td>0.000000</td>\n",
       "      <td>0.0</td>\n",
       "      <td>0.0</td>\n",
       "      <td>0.000000</td>\n",
       "    </tr>\n",
       "    <tr>\n",
       "      <th>9</th>\n",
       "      <td>EF0</td>\n",
       "      <td>EF1</td>\n",
       "      <td>EF1</td>\n",
       "      <td>0.310378</td>\n",
       "      <td>0.448605</td>\n",
       "      <td>0.141745</td>\n",
       "      <td>0.079635</td>\n",
       "      <td>0.013580</td>\n",
       "      <td>0.0</td>\n",
       "      <td>0.006057</td>\n",
       "      <td>0.276614</td>\n",
       "      <td>0.380976</td>\n",
       "      <td>0.281646</td>\n",
       "      <td>0.046875</td>\n",
       "      <td>0.0</td>\n",
       "      <td>0.0</td>\n",
       "      <td>0.013889</td>\n",
       "    </tr>\n",
       "  </tbody>\n",
       "</table>\n",
       "</div>"
      ],
      "text/plain": [
       "  TOR_F_SCALE pred_rf6 pred_rf7   rf6_EF0   rf6_EF1   rf6_EF2   rf6_EF3  \\\n",
       "0         EF1      EF0      EF0  0.534267  0.337432  0.117267  0.001389   \n",
       "1         EF1      EF1      EF1  0.300914  0.620458  0.076578  0.002050   \n",
       "2         EF0      EF0      EF0  0.739870  0.260130  0.000000  0.000000   \n",
       "3         EF0      EF1      EF1  0.205096  0.582587  0.169694  0.035431   \n",
       "4         EF0      EF2      EF2  0.106334  0.440584  0.449378  0.003704   \n",
       "5         EF0      EF0      EF0  0.807659  0.138022  0.018519  0.000000   \n",
       "6         EF1      EF1      EF1  0.368901  0.600438  0.030661  0.000000   \n",
       "7         EF0      EF0      EF0  0.582347  0.402375  0.015278  0.000000   \n",
       "8         EF1      EF0      EF0  0.800220  0.198539  0.001157  0.000000   \n",
       "9         EF0      EF1      EF1  0.310378  0.448605  0.141745  0.079635   \n",
       "\n",
       "    rf6_EF4  rf6_EF5   rf6_EFU   rf7_EF0   rf7_EF1   rf7_EF2   rf7_EF3  \\\n",
       "0  0.000000      0.0  0.009645  0.382310  0.346674  0.271016  0.000000   \n",
       "1  0.000000      0.0  0.000000  0.282633  0.597741  0.119626  0.000000   \n",
       "2  0.000000      0.0  0.000000  0.825108  0.174892  0.000000  0.000000   \n",
       "3  0.007192      0.0  0.000000  0.212897  0.483391  0.275934  0.027778   \n",
       "4  0.000000      0.0  0.000000  0.065985  0.379462  0.540664  0.013889   \n",
       "5  0.000000      0.0  0.035801  0.803041  0.171959  0.025000  0.000000   \n",
       "6  0.000000      0.0  0.000000  0.383022  0.538993  0.077985  0.000000   \n",
       "7  0.000000      0.0  0.000000  0.520041  0.460327  0.005743  0.013889   \n",
       "8  0.000000      0.0  0.000084  0.654793  0.310458  0.034749  0.000000   \n",
       "9  0.013580      0.0  0.006057  0.276614  0.380976  0.281646  0.046875   \n",
       "\n",
       "   rf7_EF4  rf7_EF5   rf7_EFU  \n",
       "0      0.0      0.0  0.000000  \n",
       "1      0.0      0.0  0.000000  \n",
       "2      0.0      0.0  0.000000  \n",
       "3      0.0      0.0  0.000000  \n",
       "4      0.0      0.0  0.000000  \n",
       "5      0.0      0.0  0.000000  \n",
       "6      0.0      0.0  0.000000  \n",
       "7      0.0      0.0  0.000000  \n",
       "8      0.0      0.0  0.000000  \n",
       "9      0.0      0.0  0.013889  "
      ]
     },
     "execution_count": 57,
     "metadata": {},
     "output_type": "execute_result"
    }
   ],
   "source": [
    "predicted_probs_rf6_7 = pd.concat([pd.DataFrame(ytest1).reset_index(drop=True),\n",
    "                                   pd.DataFrame(yhat1_rf6, columns=['pred_rf6']),\n",
    "                                   pd.DataFrame(yhat1_rf7, columns=['pred_rf7']),\n",
    "                                   pd.DataFrame(rf6.predict_proba(Xtest1), \n",
    "                                                columns=[\"rf6_{}\".format(str(i)) \n",
    "                                                         for i in list(rf6.classes_)]),\n",
    "                                   pd.DataFrame(rf7.predict_proba(Xtest1), \n",
    "                                                columns=[\"rf7_{}\".format(str(i)) \n",
    "                                                         for i in list(rf7.classes_)])],\n",
    "                                axis=1)\n",
    "predicted_probs_rf6_7.head(10)"
   ]
  },
  {
   "cell_type": "markdown",
   "metadata": {},
   "source": [
    "#### Plot"
   ]
  },
  {
   "cell_type": "markdown",
   "metadata": {},
   "source": [
    "I am going to do the plotting of the ROC curves for each tornado scale, and comparing the model without and with upsampling."
   ]
  },
  {
   "cell_type": "code",
   "execution_count": 89,
   "metadata": {},
   "outputs": [
    {
     "data": {
      "image/png": "[encoded data removed]",
      "text/plain": [
       "<matplotlib.figure.Figure at 0x1244b5ed0>"
      ]
     },
     "metadata": {},
     "output_type": "display_data"
    }
   ],
   "source": [
    "# Initializing the roc/auc attributes:\n",
    "fpr_rf6 = {}\n",
    "tpr_rf6 = {}\n",
    "fpr_rf7 = {}\n",
    "tpr_rf7 = {}\n",
    "roc_auc_rf6 = {}\n",
    "roc_auc_rf7 = {}\n",
    "\n",
    "# Computing the FPR, TPR and area under the ROC curve for each tornado and each model:\n",
    "for i in range(6):\n",
    "    fpr_rf6[i], tpr_rf6[i], _ = roc_curve(predicted_probs_rf6_7.TOR_F_SCALE.map(convertEFtonb),\n",
    "                                          proba_rf6[i],\n",
    "                                          pos_label=i)\n",
    "    roc_auc_rf6[i] = auc(fpr_rf6[i], tpr_rf6[i])\n",
    "\n",
    "    fpr_rf7[i], tpr_rf7[i], _ = roc_curve(predicted_probs_rf6_7.TOR_F_SCALE.map(convertEFtonb),\n",
    "                                          proba_rf7[i],\n",
    "                                          pos_label=i)\n",
    "    roc_auc_rf7[i] = auc(fpr_rf7[i], tpr_rf7[i])\n",
    "\n",
    "# Dictionnaries of the probabilities for each tornado:\n",
    "proba_rf6 = {0: predicted_probs_rf6_7.rf6_EF0, 1: predicted_probs_rf6_7.rf6_EF1,\n",
    "             2: predicted_probs_rf6_7.rf6_EF2, 3: predicted_probs_rf6_7.rf6_EF3, \n",
    "             4: predicted_probs_rf6_7.rf6_EF4, 5: predicted_probs_rf6_7.rf6_EF5}\n",
    "proba_rf7 = {0: predicted_probs_rf6_7.rf7_EF0, 1: predicted_probs_rf6_7.rf7_EF1,\n",
    "             2: predicted_probs_rf6_7.rf7_EF2, 3: predicted_probs_rf6_7.rf7_EF3,\n",
    "             4: predicted_probs_rf6_7.rf7_EF4, 5: predicted_probs_rf6_7.rf7_EF5}\n",
    "\n",
    "# Setting the plots:\n",
    "fig, ax = plt.subplots(2,3, figsize=(16,10), sharex=True, sharey=True)\n",
    "\n",
    "# Plotting first the EF0 to EF2 tornadoes:\n",
    "for i in range(3):\n",
    "    ax[0][i].plot(fpr_rf6[i], tpr_rf6[i],\n",
    "                  label='RF no upsampling (area = %0.3f)' %roc_auc_rf6[i], linewidth=2)\n",
    "    ax[0][i].plot(fpr_rf7[i], tpr_rf7[i],\n",
    "                  label='RF with upsampling (area = %0.3f)' %roc_auc_rf7[i], linewidth=2) \n",
    "    ax[0][i].plot([0, 1], [0, 1], 'k--', linewidth=2)\n",
    "    ax[0][i].set_xlim([-0.05, 1.05])\n",
    "    ax[0][i].set_ylim([-0.05, 1.05])\n",
    "    ax[0][i].set_xlabel('False Positive Rate', fontsize=12)\n",
    "    ax[0][i].set_ylabel('True Positive Rate', fontsize=12)\n",
    "    ax[0][i].set_title('ROC for EF{} tornado prediction'.format(i), fontsize=14)\n",
    "    ax[0][i].legend(loc=\"lower right\")\n",
    "\n",
    "# Plotting the EF3 to EF5 tornadoes:\n",
    "for i in range(3,6):\n",
    "    ax[1][i-3].plot(fpr_rf6[i], tpr_rf6[i],\n",
    "                  label='RF no upsampling (area = %0.3f)' %roc_auc_rf6[i], linewidth=3)\n",
    "    ax[1][i-3].plot(fpr_rf7[i], tpr_rf7[i],\n",
    "                  label='RF with upsampling (area = %0.3f)' %roc_auc_rf7[i], linewidth=3)\n",
    "    ax[1][i-3].plot([0, 1], [0, 1], 'k--', linewidth=2)\n",
    "    ax[1][i-3].set_xlim([-0.05, 1.05])\n",
    "    ax[1][i-3].set_ylim([-0.05, 1.05])\n",
    "    ax[1][i-3].set_xlabel('False Positive Rate', fontsize=12)\n",
    "    ax[1][i-3].set_ylabel('True Positive Rate', fontsize=12)\n",
    "    ax[1][i-3].set_title('ROC for EF{} tornado prediction'.format(i), fontsize=14)\n",
    "    ax[1][i-3].legend(loc=\"lower right\")"
   ]
  },
  {
   "cell_type": "markdown",
   "metadata": {},
   "source": [
    "Comments:\n",
    "- The results are completely unexpected: EF5 tornadoes perform the best, and for EF4 tornadoes, without upsampling is better. The results do not correspond to our previous analyses of the confusion matrix and classification report.\n",
    "- Either displaying the ROC curves for each tornado against the rest of tornadoes is not a reliable way of interpreting the validity of the models, or I need to think more to understand these results, or I made some mistake in my previous computations of the probabilities!\n",
    "- Further investigation will be necessary."
   ]
  },
  {
   "cell_type": "markdown",
   "metadata": {},
   "source": [
    "### Random Forest most important features:"
   ]
  },
  {
   "cell_type": "markdown",
   "metadata": {},
   "source": [
    "Let's display the features with the most influence to the prediction of the magnitude.\n",
    "<br>We will do it for the two models without and with upsampling:"
   ]
  },
  {
   "cell_type": "code",
   "execution_count": 93,
   "metadata": {
    "collapsed": true
   },
   "outputs": [],
   "source": [
    "def plot_RF_important_features(XtrainDF=Xtrain1, fitted_rf=rf6, weight_threshold_for_display=0,\n",
    "                               figsize=(6,4),\n",
    "                               title_test=\"Most important features taken from our best RF model so far\\n\"):\n",
    "    \n",
    "    \"\"\"Plots for the train dataset 'Xtrain1' the most important features of a fitted random forest\n",
    "    model 'fitted_rf' over the weight 'weight_threshold_for_display'\"\"\"\n",
    "    \n",
    "    importanceDF = pd.DataFrame({'Importances': fitted_rf.feature_importances_},\n",
    "                                index = XtrainDF.columns)\n",
    "    most_imp = importanceDF.sort_values(by=\"Importances\", ascending=False)\n",
    "    # Horizontal bar plot\n",
    "    plt.figure(figsize=figsize)\n",
    "    sns.barplot(list(most_imp[most_imp['Importances']>weight_threshold_for_display].values), \n",
    "                [str(i) for i in \n",
    "                 list(most_imp[most_imp['Importances']>weight_threshold_for_display].index)], \n",
    "                orient='h')\n",
    "    plt.xlabel(\"Weight\")\n",
    "    plt.ylabel(\"Predictors\")\n",
    "    plt.xlim([0, 0.25])\n",
    "    plt.title(title_test)\n",
    "    plt.show()"
   ]
  },
  {
   "cell_type": "code",
   "execution_count": 94,
   "metadata": {},
   "outputs": [
    {
     "data": {
      "image/png": "[encoded data removed]",
      "text/plain": [
       "<matplotlib.figure.Figure at 0x12413ac90>"
      ]
     },
     "metadata": {},
     "output_type": "display_data"
    }
   ],
   "source": [
    "plot_RF_important_features()"
   ]
  },
  {
   "cell_type": "code",
   "execution_count": 95,
   "metadata": {},
   "outputs": [
    {
     "data": {
      "image/png": "[encoded data removed]",
      "text/plain": [
       "<matplotlib.figure.Figure at 0x12382add0>"
      ]
     },
     "metadata": {},
     "output_type": "display_data"
    }
   ],
   "source": [
    "plot_RF_important_features(fitted_rf=rf7, title_test=\"Most important features for RF with upsampling\\n\")"
   ]
  },
  {
   "cell_type": "markdown",
   "metadata": {},
   "source": [
    "Comments on the most important features:\n",
    "- It is equally very interesting to discover which features are the most influential on the prediction of the tornado's magnitude, and to compare the lists between with and without upsampling.\n",
    "- The tornado's path maximum width is by far the parameter which predicts the best the tornado strength\n",
    "- Without upsampling, the emphasis of the model is put on the weaker tornadoes. Deaths and injuries are not a big factor to predict them, as even for larger tornadoes, the casualties are usually and fortunately not very high.<br>However numerous casualties for a particular tornado indicates that it is a strong one, which is why with upsampling, the number of deaths goes up in the list.\n",
    "- As we had seen before in part 2 and 3, the location of the tornado (latitude and longitude) is a big influencer."
   ]
  },
  {
   "cell_type": "markdown",
   "metadata": {
    "collapsed": true
   },
   "source": [
    "# Modelling using narratives - NLP"
   ]
  },
  {
   "cell_type": "markdown",
   "metadata": {},
   "source": [
    "- Each tornado includes a narrative, which we can use as a predictor for the magnitude.\n",
    "- In [part 3](tornadoes_part3_eda_modelling_nlp_tsa.ipynb), I managed to get a good accuracy score of 0.787 with a simple CountVectorizer and Multinomial Naive Bayes model. For a reminder the baseline is 0.527 and the best accuracy obtained using RF with numerical features is 0.732.\n",
    "- Lemmatization and Tf-IDF did not help improving the accuracy. \n",
    "- Pending things were: \n",
    "    - enhancing the stop word list, especially with any reference to the magnitude in the text\n",
    "    - testing of removing any numbers\n",
    "    - creating new word nodamage when there is actually no damage\n",
    "    - Testing more ngrams"
   ]
  },
  {
   "cell_type": "markdown",
   "metadata": {},
   "source": [
    "## Best CountVectorizer and Multinomial Naive Bayes model obtained in part 3:"
   ]
  },
  {
   "cell_type": "code",
   "execution_count": 13,
   "metadata": {},
   "outputs": [
    {
     "name": "stdout",
     "output_type": "stream",
     "text": [
      "(10175,) (4362,) (10175,) (4362,)\n"
     ]
    }
   ],
   "source": [
    "# Feature matrix (removing the bad row already removed before for tornado_2007_2017)\n",
    "X3 = raw_2007_2017[raw_2007_2017.TOR_LENGTH<50]['EVENT_NARRATIVE']\n",
    "\n",
    "# Train/test split\n",
    "Xtrain3, Xtest3, ytrain3, ytest3 = train_test_split(X3, y1, stratify=y1, test_size=0.3, random_state=31)\n",
    "print Xtrain3.shape, Xtest3.shape, ytrain3.shape, ytest3.shape"
   ]
  },
  {
   "cell_type": "code",
   "execution_count": 19,
   "metadata": {
    "collapsed": true
   },
   "outputs": [],
   "source": [
    "# Function that accepts a vectorizer and calculates the accuracy \n",
    "def tokenize_naiveb_scores(vect, Xtrain=Xtrain3, Xtest=Xtest3,\n",
    "                  ytrain=ytrain3, ytest=ytest3, \n",
    "                  print_scores=False, print_extra_info='Part3 count vectorizer'):\n",
    "    \n",
    "    '''From a CountVectorizer model input and a train and test feature matrix and target\n",
    "    Fits a Naive Bayes multinomial model on train data\n",
    "    Outputs and optionally prints the test accuracy score and recall score for each magnitude'''\n",
    "    \n",
    "    Xtrain_vect = vect.fit_transform(Xtrain)\n",
    "    Xtest_vect = vect.transform(Xtest)\n",
    "    \n",
    "    nb = MultinomialNB()\n",
    "    nb.fit(Xtrain_vect, ytrain)\n",
    "    yhat = nb.predict(Xtest_vect)\n",
    "    \n",
    "    accuracy = round(accuracy_score(ytest, yhat), 3)\n",
    " \n",
    "    recall=[]\n",
    "    for i in range(6):\n",
    "        recall.append(round(recall_score(ytest, yhat, labels=['EF{}'.format(i)], average='macro'),\n",
    "                            3))\n",
    "        \n",
    "    if print_scores:\n",
    "        print \"Multinomial NB\\t | {} features | {}\\t\\t\\t | Accuracy:\\t\".format(Xtrain_vect.shape[1],\n",
    "                                                                               print_extra_info),\\\n",
    "              accuracy\n",
    "        for i in range(6):\n",
    "            print \"\\t\\t\\t\\t\\t\\t\\t\\t\\t\\t | Recall EF{}:\\t\".format(i), recall[i]\n",
    "\n",
    "    return [accuracy]+recall"
   ]
  },
  {
   "cell_type": "code",
   "execution_count": 20,
   "metadata": {},
   "outputs": [
    {
     "name": "stdout",
     "output_type": "stream",
     "text": [
      "Multinomial NB\t | 20000 features | Part3 count vectorizer\t\t\t | Accuracy:\t0.795\n",
      "\t\t\t\t\t\t\t\t\t\t | Recall EF0:\t0.85\n",
      "\t\t\t\t\t\t\t\t\t\t | Recall EF1:\t0.811\n",
      "\t\t\t\t\t\t\t\t\t\t | Recall EF2:\t0.65\n",
      "\t\t\t\t\t\t\t\t\t\t | Recall EF3:\t0.427\n",
      "\t\t\t\t\t\t\t\t\t\t | Recall EF4:\t0.032\n",
      "\t\t\t\t\t\t\t\t\t\t | Recall EF5:\t0.25\n"
     ]
    },
    {
     "data": {
      "text/plain": [
       "[0.795, 0.85, 0.811, 0.65, 0.427, 0.032, 0.25]"
      ]
     },
     "execution_count": 20,
     "metadata": {},
     "output_type": "execute_result"
    }
   ],
   "source": [
    "# Best countvec and modelling from part 3:\n",
    "countvec2 = CountVectorizer(stop_words='english', ngram_range=(1,2), max_features=20000)\n",
    "tokenize_naiveb_scores(countvec2, print_scores=True)"
   ]
  },
  {
   "cell_type": "code",
   "execution_count": 265,
   "metadata": {},
   "outputs": [
    {
     "data": {
      "text/plain": [
       "tornado    23072\n",
       "damage     14396\n",
       "county      8999\n",
       "dtype: int64"
      ]
     },
     "execution_count": 265,
     "metadata": {},
     "output_type": "execute_result"
    }
   ],
   "source": [
    "# Displaying the most frequent words:\n",
    "Xtrain3_vec2 = countvec2.fit_transform(Xtrain3)\n",
    "pd.DataFrame(Xtrain3_vec2.todense(),\n",
    "             columns=countvec2.get_feature_names()).sum(axis=0).sort_values(ascending=False).head(3)"
   ]
  },
  {
   "cell_type": "markdown",
   "metadata": {},
   "source": [
    "#### Creating scores dictionnaries"
   ]
  },
  {
   "cell_type": "markdown",
   "metadata": {},
   "source": [
    "For later overall graphic analysis, I am going to create dictionnaries containing the accuracy and recall scores for each test:"
   ]
  },
  {
   "cell_type": "code",
   "execution_count": 276,
   "metadata": {
    "collapsed": true
   },
   "outputs": [],
   "source": [
    "accuracy_nlp = {}\n",
    "recallEF0_nlp = {}\n",
    "recallEF1_nlp = {}\n",
    "recallEF2_nlp = {}\n",
    "recallEF3_nlp = {}\n",
    "recallEF4_nlp = {}\n",
    "recallEF5_nlp = {}\n",
    "scores_nlp = [accuracy_nlp, recallEF0_nlp, recallEF1_nlp, recallEF2_nlp, recallEF3_nlp,\n",
    "              recallEF4_nlp, recallEF5_nlp]"
   ]
  },
  {
   "cell_type": "code",
   "execution_count": 277,
   "metadata": {},
   "outputs": [
    {
     "data": {
      "text/plain": [
       "{'cntv2 - part3 reference': 0.65}"
      ]
     },
     "execution_count": 277,
     "metadata": {},
     "output_type": "execute_result"
    }
   ],
   "source": [
    "tmp_score_list = tokenize_naiveb_scores(countvec2)\n",
    "for i, score in enumerate(scores_nlp):\n",
    "    score['cntv2 - part3 reference'] = tmp_score_list[i]\n",
    "\n",
    "recallEF2_nlp"
   ]
  },
  {
   "cell_type": "markdown",
   "metadata": {},
   "source": [
    "## New tests"
   ]
  },
  {
   "cell_type": "markdown",
   "metadata": {},
   "source": [
    "### Testing nltk stopwords:"
   ]
  },
  {
   "cell_type": "code",
   "execution_count": 122,
   "metadata": {},
   "outputs": [
    {
     "data": {
      "text/plain": [
       "153"
      ]
     },
     "execution_count": 122,
     "metadata": {},
     "output_type": "execute_result"
    }
   ],
   "source": [
    "from nltk.corpus import stopwords\n",
    "stopnltk = [str(t) for t in stopwords.words('english')]\n",
    "len(stopnltk)"
   ]
  },
  {
   "cell_type": "code",
   "execution_count": 270,
   "metadata": {},
   "outputs": [
    {
     "name": "stdout",
     "output_type": "stream",
     "text": [
      "Multinomial NB\t | 20000 features | nltk stopwords\t\t\t | Accuracy:\t0.792\n",
      "\t\t\t\t\t\t\t\t\t\t | Recall EF0:\t0.848\n",
      "\t\t\t\t\t\t\t\t\t\t | Recall EF1:\t0.802\n",
      "\t\t\t\t\t\t\t\t\t\t | Recall EF2:\t0.657\n",
      "\t\t\t\t\t\t\t\t\t\t | Recall EF3:\t0.412\n",
      "\t\t\t\t\t\t\t\t\t\t | Recall EF4:\t0.032\n",
      "\t\t\t\t\t\t\t\t\t\t | Recall EF5:\t0.25\n"
     ]
    },
    {
     "data": {
      "text/plain": [
       "[0.792, 0.848, 0.802, 0.657, 0.412, 0.032, 0.25]"
      ]
     },
     "execution_count": 270,
     "metadata": {},
     "output_type": "execute_result"
    }
   ],
   "source": [
    "# Countvec using nltk stopwords and modelling from part 3:\n",
    "countvec3 = CountVectorizer(stop_words=stopnltk, ngram_range=(1,2), max_features=20000)\n",
    "tokenize_naiveb_scores(countvec3, print_scores=True, print_extra_info='nltk stopwords')"
   ]
  },
  {
   "cell_type": "markdown",
   "metadata": {},
   "source": [
    "- The accuracy score is not as good when using nltk stopwords\n",
    "- Let's go back to the count vectorizer ones and work from there"
   ]
  },
  {
   "cell_type": "code",
   "execution_count": 278,
   "metadata": {},
   "outputs": [
    {
     "data": {
      "text/plain": [
       "{'cntv2 - part3 reference': 0.65, 'cntv3 - nltk stopwords': 0.657}"
      ]
     },
     "execution_count": 278,
     "metadata": {},
     "output_type": "execute_result"
    }
   ],
   "source": [
    "# Saving the scores:\n",
    "tmp_score_list = tokenize_naiveb_scores(countvec3)\n",
    "for i, score in enumerate(scores_nlp):\n",
    "    score['cntv3 - nltk stopwords'] = tmp_score_list[i]\n",
    "recallEF2_nlp"
   ]
  },
  {
   "cell_type": "markdown",
   "metadata": {},
   "source": [
    "### Handling \"no damage\" references"
   ]
  },
  {
   "cell_type": "code",
   "execution_count": 21,
   "metadata": {},
   "outputs": [
    {
     "data": {
      "text/plain": [
       "318"
      ]
     },
     "execution_count": 21,
     "metadata": {},
     "output_type": "execute_result"
    }
   ],
   "source": [
    "countvec_stopwords1 = list(countvec2.get_stop_words())\n",
    "len(countvec_stopwords1)"
   ]
  },
  {
   "cell_type": "markdown",
   "metadata": {},
   "source": [
    "The number of stopwords in countvectorizer is more important than nltk. That may be the reason why it gives better result."
   ]
  },
  {
   "cell_type": "markdown",
   "metadata": {},
   "source": [
    "Removing 'no' from the list as it can usefully be associated with 'damage' for instance:"
   ]
  },
  {
   "cell_type": "code",
   "execution_count": 126,
   "metadata": {},
   "outputs": [
    {
     "data": {
      "text/plain": [
       "317"
      ]
     },
     "execution_count": 126,
     "metadata": {},
     "output_type": "execute_result"
    }
   ],
   "source": [
    "countvec_stopwords2 = countvec_stopwords1\n",
    "for word in ['no']:\n",
    "    countvec_stopwords2.remove(word)\n",
    "len(countvec_stopwords2)"
   ]
  },
  {
   "cell_type": "markdown",
   "metadata": {},
   "source": [
    "Redoing the modelling:"
   ]
  },
  {
   "cell_type": "code",
   "execution_count": 156,
   "metadata": {},
   "outputs": [
    {
     "name": "stdout",
     "output_type": "stream",
     "text": [
      "Multinomial NB\t | 20000 features | countvec stopwords including \"no\"\t\t\t | Accuracy:\t0.796\n",
      "\t\t\t\t\t\t\t\t\t\t | Recall EF0:\t\t0.844\n",
      "\t\t\t\t\t\t\t\t\t\t | Recall EF1:\t\t0.82\n",
      "\t\t\t\t\t\t\t\t\t\t | Recall EF2:\t\t0.667\n",
      "\t\t\t\t\t\t\t\t\t\t | Recall EF3:\t\t0.397\n",
      "\t\t\t\t\t\t\t\t\t\t | Recall EF4:\t\t0.0\n",
      "\t\t\t\t\t\t\t\t\t\t | Recall EF5:\t\t0.25\n"
     ]
    }
   ],
   "source": [
    "countvec4 = CountVectorizer(stop_words=countvec_stopwords2, ngram_range=(1,2),\n",
    "                            max_features=20000)\n",
    "tokenize_naiveb_scores(countvec4, print_scores=True,\n",
    "                       print_extra_info='countvec stopwords including \"no\"')"
   ]
  },
  {
   "cell_type": "markdown",
   "metadata": {},
   "source": [
    "A bit better. We can now check the most important words and/or combination of words:"
   ]
  },
  {
   "cell_type": "code",
   "execution_count": 128,
   "metadata": {},
   "outputs": [
    {
     "data": {
      "text/plain": [
       "tornado      23072\n",
       "damage       14396\n",
       "county        8999\n",
       "trees         8257\n",
       "road          6959\n",
       "near          4731\n",
       "path          4437\n",
       "miles         4230\n",
       "touched       4033\n",
       "northeast     3951\n",
       "dtype: int64"
      ]
     },
     "execution_count": 128,
     "metadata": {},
     "output_type": "execute_result"
    }
   ],
   "source": [
    "Xtrain3_vec4 = countvec4.fit_transform(Xtrain3)\n",
    "pd.DataFrame(Xtrain3_vec4.todense(),\n",
    "             columns=countvec4.get_feature_names()).sum(axis=0).sort_values(ascending=False).head(10)"
   ]
  },
  {
   "cell_type": "markdown",
   "metadata": {},
   "source": [
    "No combination of words can be seen in the top 10 list. Let's check now that \"no damage\" is indeed included in the list:"
   ]
  },
  {
   "cell_type": "code",
   "execution_count": 25,
   "metadata": {},
   "outputs": [
    {
     "data": {
      "text/plain": [
       "True"
      ]
     },
     "execution_count": 25,
     "metadata": {},
     "output_type": "execute_result"
    }
   ],
   "source": [
    "\"no damage\" in countvec4.get_feature_names()"
   ]
  },
  {
   "cell_type": "code",
   "execution_count": 26,
   "metadata": {},
   "outputs": [
    {
     "data": {
      "text/plain": [
       "True"
      ]
     },
     "execution_count": 26,
     "metadata": {},
     "output_type": "execute_result"
    }
   ],
   "source": [
    "\"no\" in countvec4.get_feature_names()"
   ]
  },
  {
   "cell_type": "markdown",
   "metadata": {},
   "source": [
    "The slight improve may be explained by the fact that \"no damage\" is now a feature. However \"no\" is also becoming a feature on its own. One way to fix this is to replace in the original text \"no damage\" by a new word \"no_damage\" and leave \"no\" as a stopword:"
   ]
  },
  {
   "cell_type": "code",
   "execution_count": 16,
   "metadata": {
    "collapsed": true
   },
   "outputs": [],
   "source": [
    "def replace_nodamage(txt):\n",
    "    '''Replaces 'no damage' by 'nodamage' in a text'''\n",
    "    txt = txt.replace('no damage','nodamage')\n",
    "    txt = txt.replace('no reported damage','noreporteddamage')\n",
    "    txt = txt.replace('any damage','nodamage')\n",
    "    txt = txt.replace('not damage','nodamage')\n",
    "    return txt"
   ]
  },
  {
   "cell_type": "code",
   "execution_count": 17,
   "metadata": {},
   "outputs": [
    {
     "name": "stdout",
     "output_type": "stream",
     "text": [
      "This was a rope shaped tornado that was over range land and did not damage anything.\n",
      "This was a rope shaped tornado that was over range land and did nodamage anything.\n"
     ]
    }
   ],
   "source": [
    "# Applying and checking the function:\n",
    "Xtrain3_nodamage = Xtrain3.map(replace_nodamage)\n",
    "Xtest3_nodamage = Xtest3.map(replace_nodamage)\n",
    "print Xtrain3[3]\n",
    "print Xtrain3_nodamage[3]"
   ]
  },
  {
   "cell_type": "code",
   "execution_count": 157,
   "metadata": {},
   "outputs": [
    {
     "name": "stdout",
     "output_type": "stream",
     "text": [
      "Multinomial NB\t | 20000 features | nodamage new word\t\t\t | Accuracy:\t0.796\n",
      "\t\t\t\t\t\t\t\t\t\t | Recall EF0:\t\t0.848\n",
      "\t\t\t\t\t\t\t\t\t\t | Recall EF1:\t\t0.817\n",
      "\t\t\t\t\t\t\t\t\t\t | Recall EF2:\t\t0.657\n",
      "\t\t\t\t\t\t\t\t\t\t | Recall EF3:\t\t0.405\n",
      "\t\t\t\t\t\t\t\t\t\t | Recall EF4:\t\t0.0\n",
      "\t\t\t\t\t\t\t\t\t\t | Recall EF5:\t\t0.25\n"
     ]
    }
   ],
   "source": [
    "countvec5 = CountVectorizer(stop_words='english', ngram_range=(1,2), max_features=20000)\n",
    "tokenize_naiveb_scores(countvec5, Xtrain3_nodamage, Xtest3_nodamage, print_scores=True,\n",
    "                       print_extra_info=\"nodamage new word\")"
   ]
  },
  {
   "cell_type": "markdown",
   "metadata": {},
   "source": [
    "We get the same accuracy, but the words are better prepared. So we will take this result as our new reference.\n",
    "<br>Note: recall for EF4 tornadoes is still bad."
   ]
  },
  {
   "cell_type": "code",
   "execution_count": 279,
   "metadata": {},
   "outputs": [
    {
     "data": {
      "text/plain": [
       "{'cntv2 - part3 reference': 0.65,\n",
       " 'cntv3 - nltk stopwords': 0.657,\n",
       " 'cntv5 - nodamage new word': 0.657}"
      ]
     },
     "execution_count": 279,
     "metadata": {},
     "output_type": "execute_result"
    }
   ],
   "source": [
    "# Saving the scores:\n",
    "tmp_score_list = tokenize_naiveb_scores(countvec5, Xtrain3_nodamage, Xtest3_nodamage)\n",
    "for i, score in enumerate(scores_nlp):\n",
    "    score['cntv5 - nodamage new word'] = tmp_score_list[i]\n",
    "recallEF2_nlp"
   ]
  },
  {
   "cell_type": "markdown",
   "metadata": {},
   "source": [
    "### Removing references to target:"
   ]
  },
  {
   "cell_type": "markdown",
   "metadata": {},
   "source": [
    "Any reference to the supposed EF scale (our target) in the narrative would not provide a fair judgement of a model's quality. We should add ef0, ef1, ..., ef5 to the stopwords for a fairer modelling:"
   ]
  },
  {
   "cell_type": "code",
   "execution_count": 22,
   "metadata": {},
   "outputs": [
    {
     "data": {
      "text/plain": [
       "['ef4', 'ef5', 'f0', 'f1', 'f2', 'f3', 'f4', 'f5', 'efu', 'fu']"
      ]
     },
     "execution_count": 22,
     "metadata": {},
     "output_type": "execute_result"
    }
   ],
   "source": [
    "countvec_stopwords3 = countvec_stopwords1 + [\"ef{}\".format(i) for i in range(6)] \\\n",
    "                                          + [\"f{}\".format(i) for i in range(6)] \\\n",
    "                                          + ['efu', 'fu']\n",
    "countvec_stopwords3[-10:]"
   ]
  },
  {
   "cell_type": "code",
   "execution_count": 293,
   "metadata": {},
   "outputs": [
    {
     "name": "stdout",
     "output_type": "stream",
     "text": [
      "Multinomial NB\t | 20000 features | target references removed\t\t\t | Accuracy:\t0.771\n",
      "\t\t\t\t\t\t\t\t\t\t | Recall EF0:\t0.829\n",
      "\t\t\t\t\t\t\t\t\t\t | Recall EF1:\t0.79\n",
      "\t\t\t\t\t\t\t\t\t\t | Recall EF2:\t0.618\n",
      "\t\t\t\t\t\t\t\t\t\t | Recall EF3:\t0.321\n",
      "\t\t\t\t\t\t\t\t\t\t | Recall EF4:\t0.032\n",
      "\t\t\t\t\t\t\t\t\t\t | Recall EF5:\t0.25\n"
     ]
    },
    {
     "data": {
      "text/plain": [
       "[0.771, 0.829, 0.79, 0.618, 0.321, 0.032, 0.25]"
      ]
     },
     "execution_count": 293,
     "metadata": {},
     "output_type": "execute_result"
    }
   ],
   "source": [
    "countvec6 = CountVectorizer(stop_words=countvec_stopwords3, ngram_range=(1,2), max_features=20000)\n",
    "tokenize_naiveb_scores(countvec6, Xtrain3_nodamage, Xtest3_nodamage, \n",
    "                       print_scores=True, print_extra_info='target references removed')"
   ]
  },
  {
   "cell_type": "markdown",
   "metadata": {},
   "source": [
    "As expected, with no reference to the target, the accuracy score is worse. But much fairer. And better than our previous models using the numerical features (0.732)"
   ]
  },
  {
   "cell_type": "code",
   "execution_count": 281,
   "metadata": {},
   "outputs": [
    {
     "data": {
      "text/plain": [
       "{'cntv2 - part3 reference': 0.65,\n",
       " 'cntv3 - nltk stopwords': 0.657,\n",
       " 'cntv5 - nodamage new word': 0.657,\n",
       " 'cntv6 - no reference to target': 0.618}"
      ]
     },
     "execution_count": 281,
     "metadata": {},
     "output_type": "execute_result"
    }
   ],
   "source": [
    "# Saving the scores:\n",
    "tmp_score_list = tokenize_naiveb_scores(countvec6, Xtrain3_nodamage, Xtest3_nodamage)\n",
    "for i, score in enumerate(scores_nlp):\n",
    "    score['cntv6 - no reference to target'] = tmp_score_list[i]\n",
    "recallEF2_nlp"
   ]
  },
  {
   "cell_type": "code",
   "execution_count": 315,
   "metadata": {},
   "outputs": [
    {
     "data": {
      "image/png": "[encoded data removed]",
      "text/plain": [
       "<matplotlib.figure.Figure at 0x120deda90>"
      ]
     },
     "metadata": {},
     "output_type": "display_data"
    }
   ],
   "source": [
    "nb = MultinomialNB()\n",
    "nb.fit(Xtrain3_vec6, ytrain3)\n",
    "yhat3_vec6 = nb.predict(Xtest3_vec6)\n",
    "\n",
    "# Computing the confusion matrix\n",
    "confmatrix_nb = confusion_matrix(ytest3, yhat3_vec6)\n",
    "\n",
    "# Plotting it using the function:\n",
    "plot_confusion_matrix(confmatrix_nb, nb.classes_,\n",
    "                      'Confusion matrix - Naive Bayes - Default hyperparameters',\n",
    "                      xlab='Predicted EF scale magnitude', ylab='True EF scale magnitude')\n",
    "plt.show()"
   ]
  },
  {
   "cell_type": "markdown",
   "metadata": {},
   "source": [
    "- EF0 to EF2 tornadoes: their predictions are in majority correct.\n",
    "- EF3 to EF5 tornadoes: they are predicted in majority as weaker.\n",
    "- In all cases it is better than RF from numerical features\n",
    "- To improve on this, we could try upsampling on just the EF3 to EF5 tornadoes"
   ]
  },
  {
   "cell_type": "markdown",
   "metadata": {},
   "source": [
    "But first let's test removing any reference to numbers and digits, which could give info on wind speed, and I would preferably like to base our modelling only on narrative text."
   ]
  },
  {
   "cell_type": "markdown",
   "metadata": {},
   "source": [
    "### Removing references to numbers:"
   ]
  },
  {
   "cell_type": "code",
   "execution_count": 159,
   "metadata": {
    "collapsed": true
   },
   "outputs": [],
   "source": [
    "def remove_nbs_from_text(txt):\n",
    "    '''Removes any digit from a text'''\n",
    "    for digitchar in [str(digit) for digit in range(10)]:\n",
    "        txt = txt.replace(digitchar,'')\n",
    "    txt = txt.replace('-',' ').replace('  ',' ').replace(' .','.').replace(' ,',',')\n",
    "    return txt"
   ]
  },
  {
   "cell_type": "code",
   "execution_count": 160,
   "metadata": {
    "collapsed": true
   },
   "outputs": [],
   "source": [
    "Xtrain3_nonb = Xtrain3_nodamage.map(remove_nbs_from_text)\n",
    "Xtest3_nonb = Xtest3_nodamage.map(remove_nbs_from_text)"
   ]
  },
  {
   "cell_type": "code",
   "execution_count": 112,
   "metadata": {},
   "outputs": [
    {
     "name": "stdout",
     "output_type": "stream",
     "text": [
      "A tornado touched down along Moorefield Road, just to the east of State Route 4.  Trees were either uprooted or snapped off towards their tops with additional large limbs down from other trees.  Some minor structural damage occured as well along the 250 yard damage path.  The tornado was rated EF-0 with top wind speeds of 70 mph. \n",
      "\n",
      "A tornado touched down along Moorefield Road, just to the east of State Route. Trees were either uprooted or snapped off towards their tops with additional large limbs down from other trees. Some minor structural damage occured as well along the yard damage path. The tornado was rated EF with top wind speeds of mph.\n"
     ]
    }
   ],
   "source": [
    "# QCing the function:\n",
    "print Xtrain3[10],\"\\n\"\n",
    "print Xtrain3_nonb[10]"
   ]
  },
  {
   "cell_type": "code",
   "execution_count": 202,
   "metadata": {},
   "outputs": [
    {
     "data": {
      "text/plain": [
       "['so', 'five', 'the', 'first', 'whereas', 'once', 'ef', 'f', 'efu', 'fu']"
      ]
     },
     "execution_count": 202,
     "metadata": {},
     "output_type": "execute_result"
    }
   ],
   "source": [
    "# As number have already been removed, we just need to add ef or f to the stopword list:\n",
    "countvec_stopwords4 = countvec_stopwords1 + [\"ef\", \"f\", 'efu', 'fu']\n",
    "countvec_stopwords4[-10:]"
   ]
  },
  {
   "cell_type": "code",
   "execution_count": 203,
   "metadata": {},
   "outputs": [
    {
     "name": "stdout",
     "output_type": "stream",
     "text": [
      "Multinomial NB\t | 20000 features | no number\t\t\t | Accuracy:\t0.705\n",
      "\t\t\t\t\t\t\t\t\t\t | Recall EF0:\t\t0.768\n",
      "\t\t\t\t\t\t\t\t\t\t | Recall EF1:\t\t0.749\n",
      "\t\t\t\t\t\t\t\t\t\t | Recall EF2:\t\t0.444\n",
      "\t\t\t\t\t\t\t\t\t\t | Recall EF3:\t\t0.237\n",
      "\t\t\t\t\t\t\t\t\t\t | Recall EF4:\t\t0.0\n",
      "\t\t\t\t\t\t\t\t\t\t | Recall EF5:\t\t0.25\n"
     ]
    }
   ],
   "source": [
    "countvec7 = CountVectorizer(stop_words=countvec_stopwords4, ngram_range=(1,2),\n",
    "                            max_features=20000)\n",
    "tokenize_naiveb_scores(countvec7, Xtrain3_nonb, Xtest3_nonb, print_scores=True,\n",
    "                       print_extra_info='no number')"
   ]
  },
  {
   "cell_type": "markdown",
   "metadata": {},
   "source": [
    "Well, we have lost even more accuracy"
   ]
  },
  {
   "cell_type": "markdown",
   "metadata": {},
   "source": [
    "Actually, it is probably better to keep references to numbers and wind speed in particular, as they are an indication about the strength of a tornado, and not a direct reference to the target."
   ]
  },
  {
   "cell_type": "code",
   "execution_count": 282,
   "metadata": {},
   "outputs": [
    {
     "data": {
      "text/plain": [
       "{'cntv2 - part3 reference': 0.65,\n",
       " 'cntv3 - nltk stopwords': 0.657,\n",
       " 'cntv5 - nodamage new word': 0.657,\n",
       " 'cntv6 - no reference to target': 0.618,\n",
       " 'cntv7 - no reference to numbers': 0.444}"
      ]
     },
     "execution_count": 282,
     "metadata": {},
     "output_type": "execute_result"
    }
   ],
   "source": [
    "# Saving the scores:\n",
    "tmp_score_list = tokenize_naiveb_scores(countvec7, Xtrain3_nonb, Xtest3_nonb)\n",
    "for i, score in enumerate(scores_nlp):\n",
    "    score['cntv7 - no reference to numbers'] = tmp_score_list[i]\n",
    "recallEF2_nlp"
   ]
  },
  {
   "cell_type": "markdown",
   "metadata": {},
   "source": [
    "### Stochastic Gradient Descent:"
   ]
  },
  {
   "cell_type": "markdown",
   "metadata": {},
   "source": [
    "Trying this other model widely used in NLP when having big datasets"
   ]
  },
  {
   "cell_type": "code",
   "execution_count": 335,
   "metadata": {
    "collapsed": true
   },
   "outputs": [],
   "source": [
    "# Function that accepts a vectorizer and calculates the accuracy via Stochastic Gradient Descent\n",
    "# modelling\n",
    "def tokenize_sgd_scores(vect, Xtrain=Xtrain3, Xtest=Xtest3, ytrain=ytrain3, ytest=ytest3,\n",
    "                        print_scores=False, print_extra_info='Default stopwords'):\n",
    "    \n",
    "    '''From a CountVectorizer model input and a train and test feature matrix and target\n",
    "    Fits a Stochastic Gradient Descent model on train data\n",
    "    Outputs and optionally prints the test accuracy score and recall score for each magnitude'''\n",
    "    \n",
    "    Xtrain_vect = vect.fit_transform(Xtrain)\n",
    "    Xtest_vect = vect.transform(Xtest)\n",
    "    \n",
    "    sgd = SGDClassifier(random_state=31)\n",
    "    sgd.fit(Xtrain_vect, ytrain)\n",
    "    yhat = sgd.predict(Xtest_vect)\n",
    "    \n",
    "    accuracy = round(accuracy_score(ytest, yhat), 3)\n",
    " \n",
    "    recall=[]\n",
    "    for i in range(6):\n",
    "        recall.append(round(recall_score(ytest, yhat, labels=['EF{}'.format(i)],\n",
    "                                         average='macro'), 3))\n",
    "        \n",
    "    if print_scores:\n",
    "        print \"Stochastic GD\\t | {} features | {}\\t | Accuracy:\\t\".format(Xtrain_vect.shape[1],\n",
    "                                                                          print_extra_info),\\\n",
    "              accuracy\n",
    "        for i in range(6):\n",
    "            print \"\\t\\t\\t\\t\\t\\t\\t\\t\\t | Recall EF{}:\\t\".format(i), recall[i]\n",
    "\n",
    "    return [accuracy]+recall"
   ]
  },
  {
   "cell_type": "code",
   "execution_count": 336,
   "metadata": {},
   "outputs": [
    {
     "name": "stdout",
     "output_type": "stream",
     "text": [
      "Stochastic GD\t | 20000 features | cntv6 - no reference to target\t | Accuracy:\t0.78\n",
      "\t\t\t\t\t\t\t\t\t | Recall EF0:\t0.888\n",
      "\t\t\t\t\t\t\t\t\t | Recall EF1:\t0.724\n",
      "\t\t\t\t\t\t\t\t\t | Recall EF2:\t0.528\n",
      "\t\t\t\t\t\t\t\t\t | Recall EF3:\t0.565\n",
      "\t\t\t\t\t\t\t\t\t | Recall EF4:\t0.226\n",
      "\t\t\t\t\t\t\t\t\t | Recall EF5:\t0.25\n"
     ]
    },
    {
     "data": {
      "text/plain": [
       "[0.78, 0.888, 0.724, 0.528, 0.565, 0.226, 0.25]"
      ]
     },
     "execution_count": 336,
     "metadata": {},
     "output_type": "execute_result"
    }
   ],
   "source": [
    "tokenize_sgd_scores(countvec6, Xtrain3_nodamage, Xtest3_nodamage, \n",
    "                    print_scores=True, print_extra_info='cntv6 - no reference to target')"
   ]
  },
  {
   "cell_type": "markdown",
   "metadata": {},
   "source": [
    "- The accuracy is better than Naive Bayes (0.771). \n",
    "- Recall for EF0, EF3 and EF4 tornadoes has improved. \n",
    "- Recall for EF1 and EF2 has worsened.\n",
    "- Overall I would say it is a better model, as it improved the accuracy and our goal to get better recall for stronger tornadoes\n",
    "- Thanks to Hannah for advising me to test Stochasting Gradient Descent!"
   ]
  },
  {
   "cell_type": "code",
   "execution_count": 301,
   "metadata": {},
   "outputs": [
    {
     "data": {
      "text/plain": [
       "{'cntv2 - part3 reference': 0.65,\n",
       " 'cntv3 - nltk stopwords': 0.657,\n",
       " 'cntv5 - nodamage new word': 0.657,\n",
       " 'cntv6 - no reference to target': 0.618,\n",
       " 'cntv6b - SGD model': 0.528,\n",
       " 'cntv7 - no reference to numbers': 0.444}"
      ]
     },
     "execution_count": 301,
     "metadata": {},
     "output_type": "execute_result"
    }
   ],
   "source": [
    "# Saving the scores:\n",
    "tmp_score_list = tokenize_sgd_scores(countvec6, Xtrain3_nodamage, Xtest3_nodamage)\n",
    "for i, score in enumerate(scores_nlp):\n",
    "    score['cntv6b - SGD model'] = tmp_score_list[i]\n",
    "recallEF2_nlp"
   ]
  },
  {
   "cell_type": "code",
   "execution_count": 317,
   "metadata": {},
   "outputs": [
    {
     "data": {
      "image/png": "[encoded data removed]",
      "text/plain": [
       "<matplotlib.figure.Figure at 0x120ded690>"
      ]
     },
     "metadata": {},
     "output_type": "display_data"
    }
   ],
   "source": [
    "sgd = SGDClassifier(random_state=31)\n",
    "\n",
    "sgd.fit(Xtrain3_vec6, ytrain3)\n",
    "yhat3_vec6_sgd = sgd.predict(Xtest3_vec6)\n",
    "\n",
    "# Computing the confusion matrix\n",
    "confmatrix_sgd = confusion_matrix(ytest3, yhat3_vec6_sgd)\n",
    "\n",
    "# Plotting it using the function:\n",
    "plot_confusion_matrix(confmatrix_sgd, sgd.classes_,\n",
    "                      'Confusion matrix - Stochastic Gradient Descent - Default hyperparameters',\n",
    "                      xlab='Predicted EF scale magnitude', ylab='True EF scale magnitude')\n",
    "plt.show()"
   ]
  },
  {
   "cell_type": "markdown",
   "metadata": {},
   "source": [
    "- It is better, now the majority of EF3 predictions are correct.\n",
    "- And true positives of EF4 tornadoes have gone from 1 to 7, this is a huge improvement."
   ]
  },
  {
   "cell_type": "markdown",
   "metadata": {},
   "source": [
    "### More ngrams"
   ]
  },
  {
   "cell_type": "code",
   "execution_count": 23,
   "metadata": {
    "collapsed": true
   },
   "outputs": [],
   "source": [
    "countvec8 = CountVectorizer(stop_words=countvec_stopwords3, ngram_range=(1,3), max_features=20000)"
   ]
  },
  {
   "cell_type": "code",
   "execution_count": 318,
   "metadata": {},
   "outputs": [
    {
     "name": "stdout",
     "output_type": "stream",
     "text": [
      "Multinomial NB\t | 20000 features | ngrams 3\t\t\t | Accuracy:\t0.777\n",
      "\t\t\t\t\t\t\t\t\t\t | Recall EF0:\t0.84\n",
      "\t\t\t\t\t\t\t\t\t\t | Recall EF1:\t0.771\n",
      "\t\t\t\t\t\t\t\t\t\t | Recall EF2:\t0.65\n",
      "\t\t\t\t\t\t\t\t\t\t | Recall EF3:\t0.45\n",
      "\t\t\t\t\t\t\t\t\t\t | Recall EF4:\t0.032\n",
      "\t\t\t\t\t\t\t\t\t\t | Recall EF5:\t0.25\n"
     ]
    },
    {
     "data": {
      "text/plain": [
       "[0.777, 0.84, 0.771, 0.65, 0.45, 0.032, 0.25]"
      ]
     },
     "execution_count": 318,
     "metadata": {},
     "output_type": "execute_result"
    }
   ],
   "source": [
    "tokenize_naiveb_scores(countvec8, Xtrain3_nodamage, Xtest3_nodamage, print_scores=True,\n",
    "                       print_extra_info='ngrams 3')"
   ]
  },
  {
   "cell_type": "code",
   "execution_count": 337,
   "metadata": {},
   "outputs": [
    {
     "name": "stdout",
     "output_type": "stream",
     "text": [
      "Stochastic GD\t | 20000 features | ngrams 3\t | Accuracy:\t0.784\n",
      "\t\t\t\t\t\t\t\t\t | Recall EF0:\t0.897\n",
      "\t\t\t\t\t\t\t\t\t | Recall EF1:\t0.755\n",
      "\t\t\t\t\t\t\t\t\t | Recall EF2:\t0.44\n",
      "\t\t\t\t\t\t\t\t\t | Recall EF3:\t0.458\n",
      "\t\t\t\t\t\t\t\t\t | Recall EF4:\t0.29\n",
      "\t\t\t\t\t\t\t\t\t | Recall EF5:\t0.25\n"
     ]
    },
    {
     "data": {
      "text/plain": [
       "[0.784, 0.897, 0.755, 0.44, 0.458, 0.29, 0.25]"
      ]
     },
     "execution_count": 337,
     "metadata": {},
     "output_type": "execute_result"
    }
   ],
   "source": [
    "tokenize_sgd_scores(countvec8, Xtrain3_nodamage, Xtest3_nodamage, print_scores=True,\n",
    "                    print_extra_info='ngrams 3')"
   ]
  },
  {
   "cell_type": "markdown",
   "metadata": {},
   "source": [
    "- We improved the accuracy compared to ngrams=(1,2), in both cases Naive Bayes and Stochastic Gradient Descent\n",
    "- Recall of EF0, EF1 and EF4 got better too. EF2 and EF3 got worse.\n",
    "- Overall, SGD is better than NB, even though NB models better middle size tornadoes (EF1 and EF2)."
   ]
  },
  {
   "cell_type": "code",
   "execution_count": 320,
   "metadata": {
    "scrolled": true
   },
   "outputs": [
    {
     "data": {
      "text/plain": [
       "{'cntv2 - part3 reference': 0.65,\n",
       " 'cntv3 - nltk stopwords': 0.657,\n",
       " 'cntv5 - nodamage new word': 0.657,\n",
       " 'cntv6 - no reference to target': 0.618,\n",
       " 'cntv6b - SGD model': 0.528,\n",
       " 'cntv7 - no reference to numbers': 0.444,\n",
       " 'cntv8 - ngrams 1 to 3': 0.44}"
      ]
     },
     "execution_count": 320,
     "metadata": {},
     "output_type": "execute_result"
    }
   ],
   "source": [
    "# Saving the scores:\n",
    "tmp_score_list = tokenize_sgd_scores(countvec8, Xtrain3_nodamage, Xtest3_nodamage)\n",
    "for i, score in enumerate(scores_nlp):\n",
    "    score['cntv8 - ngrams 1 to 3'] = tmp_score_list[i]\n",
    "recallEF2_nlp"
   ]
  },
  {
   "cell_type": "code",
   "execution_count": 321,
   "metadata": {},
   "outputs": [
    {
     "data": {
      "image/png": "[encoded data removed]",
      "text/plain": [
       "<matplotlib.figure.Figure at 0x11e196cd0>"
      ]
     },
     "metadata": {},
     "output_type": "display_data"
    }
   ],
   "source": [
    "Xtrain3_vec8 = countvec8.fit_transform(Xtrain3_nodamage)\n",
    "Xtest3_vec8 = countvec8.transform(Xtest3_nodamage)\n",
    "\n",
    "sgd = SGDClassifier(random_state=31)\n",
    "sgd.fit(Xtrain3_vec8, ytrain3)\n",
    "yhat3_vec8_sgd = sgd.predict(Xtest3_vec8)\n",
    "\n",
    "# Computing the confusion matrix\n",
    "confmatrix_sgd = confusion_matrix(ytest3, yhat3_vec8_sgd)\n",
    "\n",
    "# Plotting it using the function:\n",
    "plot_confusion_matrix(confmatrix_sgd, sgd.classes_,\n",
    "                      'Confusion matrix - SGD - Default hyperparameters',\n",
    "                      xlab='Predicted EF scale magnitude', ylab='True EF scale magnitude')\n",
    "plt.show()"
   ]
  },
  {
   "cell_type": "markdown",
   "metadata": {},
   "source": [
    "- The true positives of EF4 tornadoes went again up: from 7 to 9.\n",
    "- Even though the recall of EF5 tornadoes is the same, ie the true positive is still equal to 1, and the sum of false negatives = 3, the distribution of the false negatives is worse: one EF5 tornado is even predicted as EF0! Analysing the recall is not enough, thorough analysis of the confusion matrix is needed.\n",
    "- Nevertherless, in terms of scoring, this result using SGD with ngrams 1 to 3 is the best so far."
   ]
  },
  {
   "cell_type": "markdown",
   "metadata": {},
   "source": [
    "- I also tested higher ngrams, but it was giving worse results."
   ]
  },
  {
   "cell_type": "markdown",
   "metadata": {},
   "source": [
    "### Upsampling EF3 to EF5 tornadoes"
   ]
  },
  {
   "cell_type": "markdown",
   "metadata": {},
   "source": [
    "Upsampling the train dataset can help improving the recall on stronger tornadoes on the test dataset."
   ]
  },
  {
   "cell_type": "code",
   "execution_count": 329,
   "metadata": {},
   "outputs": [
    {
     "name": "stdout",
     "output_type": "stream",
     "text": [
      "(10175,) (10175, 2)\n"
     ]
    },
    {
     "data": {
      "text/html": [
       "<div>\n",
       "<style>\n",
       "    .dataframe thead tr:only-child th {\n",
       "        text-align: right;\n",
       "    }\n",
       "\n",
       "    .dataframe thead th {\n",
       "        text-align: left;\n",
       "    }\n",
       "\n",
       "    .dataframe tbody tr th {\n",
       "        vertical-align: top;\n",
       "    }\n",
       "</style>\n",
       "<table border=\"1\" class=\"dataframe\">\n",
       "  <thead>\n",
       "    <tr style=\"text-align: right;\">\n",
       "      <th></th>\n",
       "      <th>EVENT_NARRATIVE</th>\n",
       "      <th>TOR_F_SCALE</th>\n",
       "    </tr>\n",
       "  </thead>\n",
       "  <tbody>\n",
       "    <tr>\n",
       "      <th>13291</th>\n",
       "      <td>A survey team found damage consisten tiwht an ...</td>\n",
       "      <td>EF0</td>\n",
       "    </tr>\n",
       "    <tr>\n",
       "      <th>1056</th>\n",
       "      <td>This tornado first touched down approximately ...</td>\n",
       "      <td>EF2</td>\n",
       "    </tr>\n",
       "  </tbody>\n",
       "</table>\n",
       "</div>"
      ],
      "text/plain": [
       "                                         EVENT_NARRATIVE TOR_F_SCALE\n",
       "13291  A survey team found damage consisten tiwht an ...         EF0\n",
       "1056   This tornado first touched down approximately ...         EF2"
      ]
     },
     "execution_count": 329,
     "metadata": {},
     "output_type": "execute_result"
    }
   ],
   "source": [
    "# Re-incorporating the magnitude:\n",
    "Xtrain4 = pd.concat([Xtrain3_nodamage, pd.DataFrame(ytrain3)], axis=1)\n",
    "print Xtrain3_nodamage.shape, Xtrain4.shape\n",
    "Xtrain4.head(2)"
   ]
  },
  {
   "cell_type": "code",
   "execution_count": 330,
   "metadata": {
    "collapsed": true
   },
   "outputs": [],
   "source": [
    "# Creating a dictionary of dataframes, ones for each magnitude:\n",
    "Xtrain4_perMag = {}\n",
    "for mag in ['EF0', 'EFU', 'EF1', 'EF2', 'EF3', 'EF4', 'EF5']:\n",
    "    Xtrain4_perMag[mag] = Xtrain4[Xtrain4['TOR_F_SCALE']==mag]"
   ]
  },
  {
   "cell_type": "code",
   "execution_count": 331,
   "metadata": {},
   "outputs": [
    {
     "name": "stdout",
     "output_type": "stream",
     "text": [
      "EF0 Original shape :\t(5362, 2) \tUpsample shape EF0: (5362, 2)\n",
      "EFU Original shape :\t(43, 2) \tUpsample shape EFU: (43, 2)\n",
      "EF1 Original shape :\t(3375, 2) \tUpsample shape EF1: (3375, 2)\n",
      "EF2 Original shape :\t(1009, 2) \tUpsample shape EF2: (1009, 2)\n",
      "EF3 Original shape :\t(304, 2) \tUpsample shape EF3: (1009, 2)\n",
      "EF4 Original shape :\t(72, 2) \tUpsample shape EF4: (1009, 2)\n",
      "EF5 Original shape :\t(10, 2) \tUpsample shape EF5: (1009, 2)\n"
     ]
    }
   ],
   "source": [
    "# Upsampling each dataframe based on the number of rows of the majority class EF0:\n",
    "Xtrain4_upsampled = {}\n",
    "\n",
    "for mag in ['EF0', 'EFU', 'EF1', 'EF2', 'EF3', 'EF4', 'EF5']:\n",
    "    \n",
    "    if mag in ['EF0', 'EFU', 'EF1', 'EF2']:\n",
    "        Xtrain4_upsampled[mag] = Xtrain4_perMag[mag]\n",
    "    else:\n",
    "        # Bootstrapping method is used:\n",
    "        Xtrain4_upsampled[mag] = resample(Xtrain4_perMag[mag], replace=True,\n",
    "                                          n_samples=Xtrain4_perMag['EF2'].shape[0],\n",
    "                                          random_state=31)\n",
    "    # QCs:\n",
    "    print \"{} Original shape :\\t\".format(mag), Xtrain4_perMag[mag].shape,\\\n",
    "          \"\\tUpsample shape {}:\".format(mag), Xtrain4_upsampled[mag].shape\n",
    "        "
   ]
  },
  {
   "cell_type": "code",
   "execution_count": 332,
   "metadata": {},
   "outputs": [
    {
     "name": "stdout",
     "output_type": "stream",
     "text": [
      "(12816, 2)\n"
     ]
    },
    {
     "data": {
      "text/html": [
       "<div>\n",
       "<style>\n",
       "    .dataframe thead tr:only-child th {\n",
       "        text-align: right;\n",
       "    }\n",
       "\n",
       "    .dataframe thead th {\n",
       "        text-align: left;\n",
       "    }\n",
       "\n",
       "    .dataframe tbody tr th {\n",
       "        vertical-align: top;\n",
       "    }\n",
       "</style>\n",
       "<table border=\"1\" class=\"dataframe\">\n",
       "  <thead>\n",
       "    <tr style=\"text-align: right;\">\n",
       "      <th></th>\n",
       "      <th>EVENT_NARRATIVE</th>\n",
       "      <th>TOR_F_SCALE</th>\n",
       "    </tr>\n",
       "  </thead>\n",
       "  <tbody>\n",
       "    <tr>\n",
       "      <th>0</th>\n",
       "      <td>A survey team found damage consisten tiwht an ...</td>\n",
       "      <td>EF0</td>\n",
       "    </tr>\n",
       "    <tr>\n",
       "      <th>1</th>\n",
       "      <td>This tornado occurred in open country and impa...</td>\n",
       "      <td>EF0</td>\n",
       "    </tr>\n",
       "  </tbody>\n",
       "</table>\n",
       "</div>"
      ],
      "text/plain": [
       "                                     EVENT_NARRATIVE TOR_F_SCALE\n",
       "0  A survey team found damage consisten tiwht an ...         EF0\n",
       "1  This tornado occurred in open country and impa...         EF0"
      ]
     },
     "execution_count": 332,
     "metadata": {},
     "output_type": "execute_result"
    }
   ],
   "source": [
    "# Concatenating all the upsampled dataframes\n",
    "Xtrain4_df = pd.concat([Xtrain4_upsampled['EF0'], Xtrain4_upsampled['EF1'],\n",
    "                        Xtrain4_upsampled['EF2'], Xtrain4_upsampled['EF3'], \n",
    "                        Xtrain4_upsampled['EF4'], Xtrain4_upsampled['EF5'],\n",
    "                        Xtrain4_upsampled['EFU']], ignore_index=True, axis=0)\n",
    "print Xtrain4_df.shape\n",
    "Xtrain4_df.head(2)"
   ]
  },
  {
   "cell_type": "code",
   "execution_count": 333,
   "metadata": {},
   "outputs": [
    {
     "name": "stdout",
     "output_type": "stream",
     "text": [
      "(12816,) (12816,)\n"
     ]
    }
   ],
   "source": [
    "# Recreating the feature matrix and target for modelling:\n",
    "ytrain4 = Xtrain4_df.TOR_F_SCALE\n",
    "Xtrain4_df.drop(['TOR_F_SCALE'], axis=1, inplace=True)\n",
    "Xtrain4_df = Xtrain4_df.EVENT_NARRATIVE\n",
    "print Xtrain4_df.shape, ytrain4.shape"
   ]
  },
  {
   "cell_type": "code",
   "execution_count": 351,
   "metadata": {},
   "outputs": [
    {
     "name": "stdout",
     "output_type": "stream",
     "text": [
      "Stochastic GD\t | 20000 features | upsampling EF3 to EF5\t | Accuracy:\t0.771\n",
      "\t\t\t\t\t\t\t\t\t | Recall EF0:\t0.903\n",
      "\t\t\t\t\t\t\t\t\t | Recall EF1:\t0.668\n",
      "\t\t\t\t\t\t\t\t\t | Recall EF2:\t0.549\n",
      "\t\t\t\t\t\t\t\t\t | Recall EF3:\t0.565\n",
      "\t\t\t\t\t\t\t\t\t | Recall EF4:\t0.226\n",
      "\t\t\t\t\t\t\t\t\t | Recall EF5:\t0.25\n"
     ]
    },
    {
     "data": {
      "text/plain": [
       "[0.771, 0.903, 0.668, 0.549, 0.565, 0.226, 0.25]"
      ]
     },
     "execution_count": 351,
     "metadata": {},
     "output_type": "execute_result"
    }
   ],
   "source": [
    "# Redoing the modeling, with best obtained so far \n",
    "# (maxfeatures 20000, ngrams 3, new word no_damage, stopwords including references to scale, sgd)\n",
    "countvec9 = CountVectorizer(stop_words=countvec_stopwords3, ngram_range=(1,3),\n",
    "                            max_features=20000)\n",
    "tokenize_sgd_scores(countvec9, Xtrain4_df, Xtest3_nodamage, ytrain4, ytest3,\n",
    "                    print_scores=True, print_extra_info='upsampling EF3 to EF5')"
   ]
  },
  {
   "cell_type": "markdown",
   "metadata": {},
   "source": [
    "- Accuracy is lower\n",
    "- Recall of EF0, EF2 and EF3 tornadoes has increased. Recall EF1 and EF4 has decreased. \n",
    "- It is not a very conclusive test."
   ]
  },
  {
   "cell_type": "code",
   "execution_count": 338,
   "metadata": {},
   "outputs": [
    {
     "data": {
      "text/plain": [
       "{'cntv2 - part3 reference': 0.65,\n",
       " 'cntv3 - nltk stopwords': 0.657,\n",
       " 'cntv5 - nodamage new word': 0.657,\n",
       " 'cntv6 - no reference to target': 0.618,\n",
       " 'cntv6b - SGD model': 0.528,\n",
       " 'cntv7 - no reference to numbers': 0.444,\n",
       " 'cntv8 - ngrams 1 to 3': 0.44,\n",
       " 'cntv9 - sgd - upsampling': 0.549}"
      ]
     },
     "execution_count": 338,
     "metadata": {},
     "output_type": "execute_result"
    }
   ],
   "source": [
    "# Saving the scores:\n",
    "tmp_score_list = tokenize_sgd_scores(countvec9, Xtrain4_df, Xtest3_nodamage, ytrain4, ytest3)\n",
    "for i, score in enumerate(scores_nlp):\n",
    "    score['cntv9 - sgd - upsampling'] = tmp_score_list[i]\n",
    "recallEF2_nlp"
   ]
  },
  {
   "cell_type": "markdown",
   "metadata": {},
   "source": [
    "### Introducing the length of the narrative as a feature"
   ]
  },
  {
   "cell_type": "markdown",
   "metadata": {},
   "source": [
    "By inspecting more the data, I could realize the that stronger tornadoes have a bigger narrative. Let's include this as a new variable"
   ]
  },
  {
   "cell_type": "code",
   "execution_count": 339,
   "metadata": {},
   "outputs": [
    {
     "data": {
      "text/html": [
       "<div>\n",
       "<style>\n",
       "    .dataframe thead tr:only-child th {\n",
       "        text-align: right;\n",
       "    }\n",
       "\n",
       "    .dataframe thead th {\n",
       "        text-align: left;\n",
       "    }\n",
       "\n",
       "    .dataframe tbody tr th {\n",
       "        vertical-align: top;\n",
       "    }\n",
       "</style>\n",
       "<table border=\"1\" class=\"dataframe\">\n",
       "  <thead>\n",
       "    <tr style=\"text-align: right;\">\n",
       "      <th></th>\n",
       "      <th>EVENT_NARRATIVE</th>\n",
       "      <th>txt_length</th>\n",
       "    </tr>\n",
       "  </thead>\n",
       "  <tbody>\n",
       "    <tr>\n",
       "      <th>0</th>\n",
       "      <td>A survey team found damage consisten tiwht an ...</td>\n",
       "      <td>390</td>\n",
       "    </tr>\n",
       "    <tr>\n",
       "      <th>1</th>\n",
       "      <td>This tornado first touched down approximately ...</td>\n",
       "      <td>1562</td>\n",
       "    </tr>\n",
       "  </tbody>\n",
       "</table>\n",
       "</div>"
      ],
      "text/plain": [
       "                                     EVENT_NARRATIVE  txt_length\n",
       "0  A survey team found damage consisten tiwht an ...         390\n",
       "1  This tornado first touched down approximately ...        1562"
      ]
     },
     "execution_count": 339,
     "metadata": {},
     "output_type": "execute_result"
    }
   ],
   "source": [
    "Xtrain3_nodamage_df = pd.DataFrame(Xtrain3_nodamage.reset_index(drop=True))\n",
    "Xtrain3_nodamage_df['txt_length'] = Xtrain3_nodamage_df.EVENT_NARRATIVE.map(lambda txt: len(txt))\n",
    "Xtrain3_nodamage_df.head(2)"
   ]
  },
  {
   "cell_type": "code",
   "execution_count": 345,
   "metadata": {},
   "outputs": [
    {
     "data": {
      "text/plain": [
       "0    EF0\n",
       "1    EF2\n",
       "Name: TOR_F_SCALE, dtype: object"
      ]
     },
     "execution_count": 345,
     "metadata": {},
     "output_type": "execute_result"
    }
   ],
   "source": [
    "ytrain3.reset_index(drop=True, inplace=True)\n",
    "ytrain3.head(2)"
   ]
  },
  {
   "cell_type": "markdown",
   "metadata": {},
   "source": [
    "The two lists above illustrate my point: the EF2 tornado has more narrative text than the EF0 one."
   ]
  },
  {
   "cell_type": "code",
   "execution_count": 346,
   "metadata": {
    "collapsed": true
   },
   "outputs": [],
   "source": [
    "# Same kind of DF for test set:\n",
    "Xtest3_nodamage_df = pd.DataFrame(Xtest3_nodamage.reset_index(drop=True))\n",
    "Xtest3_nodamage_df['txt_length'] = Xtest3_nodamage_df.EVENT_NARRATIVE.map(lambda txt: len(txt))\n",
    "\n",
    "ytest3.reset_index(drop=True, inplace=True)"
   ]
  },
  {
   "cell_type": "markdown",
   "metadata": {},
   "source": [
    "Creating a new feature matrix with the length of the narrative and the best count vectorizer:"
   ]
  },
  {
   "cell_type": "code",
   "execution_count": 341,
   "metadata": {},
   "outputs": [
    {
     "data": {
      "text/html": [
       "<div>\n",
       "<style>\n",
       "    .dataframe thead tr:only-child th {\n",
       "        text-align: right;\n",
       "    }\n",
       "\n",
       "    .dataframe thead th {\n",
       "        text-align: left;\n",
       "    }\n",
       "\n",
       "    .dataframe tbody tr th {\n",
       "        vertical-align: top;\n",
       "    }\n",
       "</style>\n",
       "<table border=\"1\" class=\"dataframe\">\n",
       "  <thead>\n",
       "    <tr style=\"text-align: right;\">\n",
       "      <th></th>\n",
       "      <th>txt_length</th>\n",
       "      <th>00</th>\n",
       "      <th>00 cst</th>\n",
       "      <th>00 pm</th>\n",
       "      <th>000</th>\n",
       "      <th>000 chickens</th>\n",
       "      <th>000 dollars</th>\n",
       "      <th>000 feet</th>\n",
       "      <th>000 pounds</th>\n",
       "      <th>001</th>\n",
       "      <th>...</th>\n",
       "      <th>years old</th>\n",
       "      <th>yellow</th>\n",
       "      <th>york</th>\n",
       "      <th>york county</th>\n",
       "      <th>young</th>\n",
       "      <th>zandt</th>\n",
       "      <th>zandt county</th>\n",
       "      <th>zero</th>\n",
       "      <th>zion</th>\n",
       "      <th>zion road</th>\n",
       "    </tr>\n",
       "  </thead>\n",
       "  <tbody>\n",
       "    <tr>\n",
       "      <th>0</th>\n",
       "      <td>390</td>\n",
       "      <td>0</td>\n",
       "      <td>0</td>\n",
       "      <td>0</td>\n",
       "      <td>0</td>\n",
       "      <td>0</td>\n",
       "      <td>0</td>\n",
       "      <td>0</td>\n",
       "      <td>0</td>\n",
       "      <td>0</td>\n",
       "      <td>...</td>\n",
       "      <td>0</td>\n",
       "      <td>0</td>\n",
       "      <td>0</td>\n",
       "      <td>0</td>\n",
       "      <td>0</td>\n",
       "      <td>0</td>\n",
       "      <td>0</td>\n",
       "      <td>0</td>\n",
       "      <td>0</td>\n",
       "      <td>0</td>\n",
       "    </tr>\n",
       "    <tr>\n",
       "      <th>1</th>\n",
       "      <td>1562</td>\n",
       "      <td>0</td>\n",
       "      <td>0</td>\n",
       "      <td>0</td>\n",
       "      <td>0</td>\n",
       "      <td>0</td>\n",
       "      <td>0</td>\n",
       "      <td>0</td>\n",
       "      <td>0</td>\n",
       "      <td>0</td>\n",
       "      <td>...</td>\n",
       "      <td>0</td>\n",
       "      <td>0</td>\n",
       "      <td>0</td>\n",
       "      <td>0</td>\n",
       "      <td>0</td>\n",
       "      <td>0</td>\n",
       "      <td>0</td>\n",
       "      <td>0</td>\n",
       "      <td>0</td>\n",
       "      <td>0</td>\n",
       "    </tr>\n",
       "  </tbody>\n",
       "</table>\n",
       "<p>2 rows × 20001 columns</p>\n",
       "</div>"
      ],
      "text/plain": [
       "   txt_length  00  00 cst  00 pm  000  000 chickens  000 dollars  000 feet  \\\n",
       "0         390   0       0      0    0             0            0         0   \n",
       "1        1562   0       0      0    0             0            0         0   \n",
       "\n",
       "   000 pounds  001    ...      years old  yellow  york  york county  young  \\\n",
       "0           0    0    ...              0       0     0            0      0   \n",
       "1           0    0    ...              0       0     0            0      0   \n",
       "\n",
       "   zandt  zandt county  zero  zion  zion road  \n",
       "0      0             0     0     0          0  \n",
       "1      0             0     0     0          0  \n",
       "\n",
       "[2 rows x 20001 columns]"
      ]
     },
     "execution_count": 341,
     "metadata": {},
     "output_type": "execute_result"
    }
   ],
   "source": [
    "Xtrain5 = pd.concat([Xtrain3_nodamage_df[['txt_length']],\n",
    "                     pd.DataFrame(Xtrain3_vec8.todense(),\n",
    "                                  columns=countvec8.get_feature_names())], axis=1)\n",
    "Xtrain5.head(2)"
   ]
  },
  {
   "cell_type": "code",
   "execution_count": 342,
   "metadata": {
    "collapsed": true
   },
   "outputs": [],
   "source": [
    "# Same for test set:\n",
    "Xtest5 = pd.concat([Xtest3_nodamage_df[['txt_length']],\n",
    "                    pd.DataFrame(Xtest3_vec8.todense(),\n",
    "                                 columns=countvec8.get_feature_names())], axis=1)"
   ]
  },
  {
   "cell_type": "markdown",
   "metadata": {},
   "source": [
    "As we now have another feature and it is numerical, I am going to use RF:"
   ]
  },
  {
   "cell_type": "code",
   "execution_count": 357,
   "metadata": {},
   "outputs": [
    {
     "name": "stderr",
     "output_type": "stream",
     "text": [
      "[Parallel(n_jobs=2)]: Done  46 tasks      | elapsed:  2.8min\n",
      "[Parallel(n_jobs=2)]: Done  80 out of  80 | elapsed:  4.9min finished\n",
      "[Parallel(n_jobs=2)]: Done  46 tasks      | elapsed:    0.1s\n",
      "[Parallel(n_jobs=2)]: Done  80 out of  80 | elapsed:    0.2s finished\n"
     ]
    },
    {
     "name": "stdout",
     "output_type": "stream",
     "text": [
      "Accuracy | Test\t\t | Random Forest\t | length + cvect\t | Prev test param:\t0.785\n"
     ]
    }
   ],
   "source": [
    "# Best RF so far:\n",
    "rf9 = RandomForestClassifier(random_state=31, min_samples_leaf=1, n_estimators=80,\n",
    "                             min_samples_split=8, criterion='entropy', \n",
    "                             max_features=0.4, max_depth=24, \n",
    "                             verbose=1, n_jobs=2)\n",
    "rf9.fit(Xtrain5, ytrain3)\n",
    "yhat5_rf9 = rf9.predict(Xtest5)\n",
    "accuracy_rf9 = accuracy_score(ytest3, yhat5_rf9)\n",
    "print \"Accuracy | Test\\t\\t | Random Forest\\t | length + cvect\\t | Prev test param:\\t\", round(accuracy_rf9, 3)"
   ]
  },
  {
   "cell_type": "markdown",
   "metadata": {},
   "source": [
    "This is very similar to the best accuracy score previously obtained with SGD without the text length as a feature (0.784). Let's analyse the recall:"
   ]
  },
  {
   "cell_type": "code",
   "execution_count": 358,
   "metadata": {},
   "outputs": [
    {
     "name": "stdout",
     "output_type": "stream",
     "text": [
      "\t\t\t\t\t\t\t\t\t\t | Recall EF0:\t\t0.905\n",
      "\t\t\t\t\t\t\t\t\t\t | Recall EF1:\t\t0.759\n",
      "\t\t\t\t\t\t\t\t\t\t | Recall EF2:\t\t0.479\n",
      "\t\t\t\t\t\t\t\t\t\t | Recall EF3:\t\t0.252\n",
      "\t\t\t\t\t\t\t\t\t\t | Recall EF4:\t\t0.129\n",
      "\t\t\t\t\t\t\t\t\t\t | Recall EF5:\t\t0.25\n"
     ]
    }
   ],
   "source": [
    "for i in range(6):\n",
    "    print \"\\t\\t\\t\\t\\t\\t\\t\\t\\t\\t | Recall EF{}:\\t\\t\".format(i),\\\n",
    "          round(recall_score(ytest3, yhat5_rf9, labels=['EF{}'.format(i)], average='macro'), 3)"
   ]
  },
  {
   "cell_type": "markdown",
   "metadata": {},
   "source": [
    "- The recall of the weaker tornadoes has increased, but the one of the stronger ones has decreased.\n",
    "- This test is not going to be chosen."
   ]
  },
  {
   "cell_type": "code",
   "execution_count": 363,
   "metadata": {
    "collapsed": true
   },
   "outputs": [],
   "source": [
    "# Saving the scores:\n",
    "accuracy_nlp['cntv8b - rf - text length feat'] = round(accuracy_rf9, 3)\n",
    "for i, score in enumerate(scores_nlp[1:]):\n",
    "    score['cntv8b - rf - text length feat'] = \\\n",
    "    round(recall_score(ytest3, yhat5_rf9, labels=['EF{}'.format(i)], average='macro'), 3)"
   ]
  },
  {
   "cell_type": "code",
   "execution_count": 362,
   "metadata": {},
   "outputs": [
    {
     "data": {
      "text/plain": [
       "{'cntv2 - part3 reference': 0.795,\n",
       " 'cntv3 - nltk stopwords': 0.792,\n",
       " 'cntv5 - nodamage new word': 0.796,\n",
       " 'cntv6 - no reference to target': 0.771,\n",
       " 'cntv6b - SGD model': 0.78,\n",
       " 'cntv7 - no reference to numbers': 0.705,\n",
       " 'cntv8 - ngrams 1 to 3': 0.784,\n",
       " 'cntv8b - rf - text length feat': 0.785,\n",
       " 'cntv9 - sgd - upsampling': 0.771}"
      ]
     },
     "execution_count": 362,
     "metadata": {},
     "output_type": "execute_result"
    }
   ],
   "source": [
    "accuracy_nlp"
   ]
  },
  {
   "cell_type": "markdown",
   "metadata": {},
   "source": [
    "## Conclusions on our Natural Language Processing analysis"
   ]
  },
  {
   "cell_type": "markdown",
   "metadata": {},
   "source": [
    "We gathered all the important test scores in the list of dictionaries scores_nlp. \n",
    "<br>We can now use it to plot the scores as a function of the test, and have a better overview."
   ]
  },
  {
   "cell_type": "code",
   "execution_count": 413,
   "metadata": {},
   "outputs": [
    {
     "data": {
      "image/png": "[encoded data removed]",
      "text/plain": [
       "<matplotlib.figure.Figure at 0x128f60650>"
      ]
     },
     "metadata": {},
     "output_type": "display_data"
    }
   ],
   "source": [
    "xTicks = sorted(scores_nlp[0].keys())\n",
    "plt.figure(figsize=(10,8))\n",
    "plt.title(\"Scores of the different tests performed for NLP\")\n",
    "plt.xticks(range(9), xTicks, rotation=70)\n",
    "plt.ylabel(\"Score\")\n",
    "labels = ['Accuracy','EF0 recall','EF1 recall','EF2 recall','EF3 recall','EF4 recall',\n",
    "          'EF5 recall']\n",
    "for i, score in enumerate(scores_nlp):\n",
    "    y = [value for (key, value) in sorted(score.items())]\n",
    "    plt.plot(y, label=labels[i])\n",
    "plt.legend(loc='lower right')\n",
    "plt.show()"
   ]
  },
  {
   "cell_type": "markdown",
   "metadata": {},
   "source": [
    "- It is clearly visible on this graph that the introduction of the Stochastic Gradient Descent at test 6b, brought a significant improvement on all scores except EF1 and EF2 recalls.\n",
    "- Test 7 shows us that numbers are important in the modelling of narrative features. They correspond to references to wind speed for example.\n",
    "- Test 8: apart from EF2 and EF3 tornadoes, all other predictions are better than test 6b.\n",
    "- Test 8b shows that the text length is not very representative of EF3 and EF4 tornadoes (their recall decreases)\n",
    "- Test 9 representing the upsampling is interesting: EF2 and EF3 are getting better, but EF1 tornadoes are getting their lowest recall.\n",
    "<br><br>\n",
    "- Test 8 seems like a good compromise"
   ]
  },
  {
   "cell_type": "markdown",
   "metadata": {},
   "source": [
    "**Summary of the chosen parameters based on the various statistics:**\n",
    "- Creation of 'nodamage' new word.\n",
    "- Count Vectorizer default stop words.\n",
    "- Removal of references to target.\n",
    "- Keeping the numbers references.\n",
    "- Stochastic Gradient Descent model.\n",
    "- No upsampling of stronger tornadoes\n",
    "- ngrams 1 to 3"
   ]
  },
  {
   "cell_type": "markdown",
   "metadata": {},
   "source": [
    "# Gathering the numerical features + count vectorized narrative"
   ]
  },
  {
   "cell_type": "code",
   "execution_count": 14,
   "metadata": {},
   "outputs": [
    {
     "name": "stdout",
     "output_type": "stream",
     "text": [
      "(14537, 11) (14537,)\n"
     ]
    }
   ],
   "source": [
    "# We have to join X1 and X3\n",
    "X1.head(2)\n",
    "print X1.shape, X3.shape"
   ]
  },
  {
   "cell_type": "code",
   "execution_count": 24,
   "metadata": {
    "collapsed": true
   },
   "outputs": [],
   "source": [
    "X1.reset_index(drop=True, inplace=True)\n",
    "\n",
    "X3_vec8 = countvec8.fit_transform(X3.map(replace_nodamage))\n",
    "\n",
    "X3_vec8_df = pd.DataFrame(X3_vec8.todense(), columns=countvec8.get_feature_names())\n",
    "\n",
    "X4 = pd.concat([X1, X3_vec8_df], axis=1)"
   ]
  },
  {
   "cell_type": "code",
   "execution_count": 475,
   "metadata": {},
   "outputs": [
    {
     "name": "stdout",
     "output_type": "stream",
     "text": [
      "(14537, 20011)\n"
     ]
    },
    {
     "data": {
      "text/html": [
       "<div>\n",
       "<style>\n",
       "    .dataframe thead tr:only-child th {\n",
       "        text-align: right;\n",
       "    }\n",
       "\n",
       "    .dataframe thead th {\n",
       "        text-align: left;\n",
       "    }\n",
       "\n",
       "    .dataframe tbody tr th {\n",
       "        vertical-align: top;\n",
       "    }\n",
       "</style>\n",
       "<table border=\"1\" class=\"dataframe\">\n",
       "  <thead>\n",
       "    <tr style=\"text-align: right;\">\n",
       "      <th></th>\n",
       "      <th>TOR_LENGTH</th>\n",
       "      <th>TOR_WIDTH</th>\n",
       "      <th>Duration</th>\n",
       "      <th>AverageDate</th>\n",
       "      <th>AverageTime</th>\n",
       "      <th>Deaths</th>\n",
       "      <th>Injuries</th>\n",
       "      <th>Mean_Lat</th>\n",
       "      <th>Mean_Lon</th>\n",
       "      <th>Azimuth</th>\n",
       "      <th>...</th>\n",
       "      <th>years old</th>\n",
       "      <th>yellow</th>\n",
       "      <th>york</th>\n",
       "      <th>york county</th>\n",
       "      <th>young</th>\n",
       "      <th>zandt</th>\n",
       "      <th>zandt county</th>\n",
       "      <th>zero</th>\n",
       "      <th>zion</th>\n",
       "      <th>zion road</th>\n",
       "    </tr>\n",
       "  </thead>\n",
       "  <tbody>\n",
       "    <tr>\n",
       "      <th>0</th>\n",
       "      <td>-0.649575</td>\n",
       "      <td>-0.553936</td>\n",
       "      <td>-0.663909</td>\n",
       "      <td>0.71888</td>\n",
       "      <td>0.064657</td>\n",
       "      <td>-0.048934</td>\n",
       "      <td>-0.06017</td>\n",
       "      <td>0.992225</td>\n",
       "      <td>-0.148975</td>\n",
       "      <td>1.408556</td>\n",
       "      <td>...</td>\n",
       "      <td>0</td>\n",
       "      <td>0</td>\n",
       "      <td>0</td>\n",
       "      <td>0</td>\n",
       "      <td>0</td>\n",
       "      <td>0</td>\n",
       "      <td>0</td>\n",
       "      <td>0</td>\n",
       "      <td>0</td>\n",
       "      <td>0</td>\n",
       "    </tr>\n",
       "    <tr>\n",
       "      <th>1</th>\n",
       "      <td>-0.665453</td>\n",
       "      <td>-0.553936</td>\n",
       "      <td>-0.663909</td>\n",
       "      <td>0.71888</td>\n",
       "      <td>0.142239</td>\n",
       "      <td>-0.048934</td>\n",
       "      <td>-0.06017</td>\n",
       "      <td>0.978331</td>\n",
       "      <td>-0.115564</td>\n",
       "      <td>1.354156</td>\n",
       "      <td>...</td>\n",
       "      <td>0</td>\n",
       "      <td>0</td>\n",
       "      <td>0</td>\n",
       "      <td>0</td>\n",
       "      <td>0</td>\n",
       "      <td>0</td>\n",
       "      <td>0</td>\n",
       "      <td>0</td>\n",
       "      <td>0</td>\n",
       "      <td>0</td>\n",
       "    </tr>\n",
       "  </tbody>\n",
       "</table>\n",
       "<p>2 rows × 20011 columns</p>\n",
       "</div>"
      ],
      "text/plain": [
       "   TOR_LENGTH  TOR_WIDTH  Duration  AverageDate  AverageTime    Deaths  \\\n",
       "0   -0.649575  -0.553936 -0.663909      0.71888     0.064657 -0.048934   \n",
       "1   -0.665453  -0.553936 -0.663909      0.71888     0.142239 -0.048934   \n",
       "\n",
       "   Injuries  Mean_Lat  Mean_Lon   Azimuth    ...      years old  yellow  york  \\\n",
       "0  -0.06017  0.992225 -0.148975  1.408556    ...              0       0     0   \n",
       "1  -0.06017  0.978331 -0.115564  1.354156    ...              0       0     0   \n",
       "\n",
       "   york county  young  zandt  zandt county  zero  zion  zion road  \n",
       "0            0      0      0             0     0     0          0  \n",
       "1            0      0      0             0     0     0          0  \n",
       "\n",
       "[2 rows x 20011 columns]"
      ]
     },
     "execution_count": 475,
     "metadata": {},
     "output_type": "execute_result"
    }
   ],
   "source": [
    "print X4.shape\n",
    "X4.head(2)"
   ]
  },
  {
   "cell_type": "code",
   "execution_count": 25,
   "metadata": {
    "collapsed": true
   },
   "outputs": [],
   "source": [
    "Xtrain4, Xtest4, ytrain4, ytest4 = train_test_split(X4, y1, test_size=0.3, stratify=y1,\n",
    "                                                    random_state=31)"
   ]
  },
  {
   "cell_type": "code",
   "execution_count": 233,
   "metadata": {},
   "outputs": [
    {
     "name": "stdout",
     "output_type": "stream",
     "text": [
      "Accuracy | Test\t\t | Random Forest\t | num + cvect\t | Prev test param:\t0.812\n",
      "\t\t\t\t\t\t\t\t\t | Recall EF0:\t\t0.911\n",
      "\t\t\t\t\t\t\t\t\t | Recall EF1:\t\t0.8\n",
      "\t\t\t\t\t\t\t\t\t | Recall EF2:\t\t0.542\n",
      "\t\t\t\t\t\t\t\t\t | Recall EF3:\t\t0.397\n",
      "\t\t\t\t\t\t\t\t\t | Recall EF4:\t\t0.161\n",
      "\t\t\t\t\t\t\t\t\t | Recall EF5:\t\t0.0\n"
     ]
    }
   ],
   "source": [
    "rf9 = RandomForestClassifier(random_state=31, min_samples_leaf=1, n_estimators=80,\n",
    "                             min_samples_split=8,\n",
    "                             criterion='entropy', max_features=0.4, max_depth=24)\n",
    "rf9.fit(Xtrain4, ytrain4)\n",
    "yhat4_rf9 = rf9.predict(Xtest4)\n",
    "accuracy_rf9 = accuracy_score(ytest4, yhat4_rf9)\n",
    "print \"Accuracy | Test\\t\\t | Random Forest\\t | num + cvect\\t | Prev test param:\\t\", round(accuracy_rf9, 3)\n",
    "for i in range(6):\n",
    "    print \"\\t\\t\\t\\t\\t\\t\\t\\t\\t | Recall EF{}:\\t\\t\".format(i),\\\n",
    "          round(recall_score(ytest4, yhat4_rf9, labels=['EF{}'.format(i)], average='macro'), 3)"
   ]
  },
  {
   "cell_type": "markdown",
   "metadata": {},
   "source": [
    "- Accuracy has increased a lot\n",
    "- Recall of all tornadoes has improved, except EF3, EF4 and EF5.\n",
    "- Even though the accuracy is much better due to great predictions of the lower magnitudes, I would not select this test as the stronger tornadoes do not get predicted as well. This can be noted in the confusion matric too:"
   ]
  },
  {
   "cell_type": "code",
   "execution_count": 193,
   "metadata": {},
   "outputs": [
    {
     "data": {
      "image/png": "[encoded data removed]",
      "text/plain": [
       "<matplotlib.figure.Figure at 0x1242ab2d0>"
      ]
     },
     "metadata": {},
     "output_type": "display_data"
    }
   ],
   "source": [
    "# Computing the confusion matrix\n",
    "confmatrix_nb = confusion_matrix(ytest4, yhat4_rf9)\n",
    "\n",
    "# Plotting it using the function:\n",
    "plot_confusion_matrix(confmatrix_nb, rf9.classes_,\n",
    "                      'Confusion matrix - Random Forest - Numerical and Narrative features',\n",
    "                      xlab='Predicted EF scale magnitude', ylab='True EF scale magnitude')\n",
    "plt.show()"
   ]
  },
  {
   "cell_type": "markdown",
   "metadata": {},
   "source": [
    "The number of correctly predicted EF4 tornadoes came down to 4, and there is no EF5 tornado correctly predicted."
   ]
  },
  {
   "cell_type": "markdown",
   "metadata": {},
   "source": [
    "It could be interesting to redo a gridsearch."
   ]
  },
  {
   "cell_type": "code",
   "execution_count": 234,
   "metadata": {},
   "outputs": [
    {
     "data": {
      "image/png": "[encoded data removed]",
      "text/plain": [
       "<matplotlib.figure.Figure at 0x11c6dd0d0>"
      ]
     },
     "metadata": {},
     "output_type": "display_data"
    }
   ],
   "source": [
    "plot_RF_important_features(XtrainDF=Xtrain4, fitted_rf=rf9, weight_threshold_for_display=0.002,\n",
    "                           figsize=(6,12),\n",
    "                           title_test=\"Most important features taken from our best RF model so far\\n\")"
   ]
  },
  {
   "cell_type": "markdown",
   "metadata": {
    "collapsed": true
   },
   "source": [
    "- The most important features are interesting and show we could still bring some improvements and gather words like \"damage\" and \"damaged\", or \"90\" and \"90 mph\". Even though we saw in part 3 that they do not bring much to the accuracy, I think more testing on lemmatization and tf-idf could lead to a better result.\n",
    "\n",
    "- Testing other types of models would be good, and also optimizing their hyperparameters.\n",
    "\n",
    "- Another interesting test would be the sentiment analysis."
   ]
  },
  {
   "cell_type": "markdown",
   "metadata": {
    "collapsed": true
   },
   "source": [
    "# Predicting the total damage cost"
   ]
  },
  {
   "cell_type": "markdown",
   "metadata": {},
   "source": [
    "Now that we have helped determining the tornado magnitude based on narrative text from various sources, we can try and predict the cost of damage, which could help counties plan for future possible protection budgets. Insurance companies could also be a target for this study."
   ]
  },
  {
   "cell_type": "code",
   "execution_count": 421,
   "metadata": {},
   "outputs": [
    {
     "name": "stdout",
     "output_type": "stream",
     "text": [
      "(14537, 14)\n",
      "<class 'pandas.core.frame.DataFrame'>\n",
      "RangeIndex: 14537 entries, 0 to 14536\n",
      "Data columns (total 14 columns):\n",
      "TOR_F_SCALE    14537 non-null object\n",
      "TOR_LENGTH     14537 non-null float64\n",
      "TOR_WIDTH      14537 non-null float64\n",
      "Duration       14537 non-null int64\n",
      "AverageDate    14537 non-null int64\n",
      "AverageTime    14537 non-null float64\n",
      "Deaths         14537 non-null int64\n",
      "Injuries       14537 non-null int64\n",
      "Mean_Lat       14537 non-null float64\n",
      "Mean_Lon       14537 non-null float64\n",
      "Azimuth        14537 non-null float64\n",
      "State          14537 non-null object\n",
      "TotalCost      14537 non-null int64\n",
      "Source         14537 non-null object\n",
      "dtypes: float64(6), int64(5), object(3)\n",
      "memory usage: 1.6+ MB\n"
     ]
    }
   ],
   "source": [
    "# Removing wrong outlier and displaying info:\n",
    "dfnew = df[df['TOR_LENGTH']<50]\n",
    "dfnew.reset_index(drop=True, inplace=True)\n",
    "print dfnew.shape\n",
    "dfnew.info()"
   ]
  },
  {
   "cell_type": "code",
   "execution_count": 422,
   "metadata": {},
   "outputs": [
    {
     "data": {
      "text/html": [
       "<div>\n",
       "<style>\n",
       "    .dataframe thead tr:only-child th {\n",
       "        text-align: right;\n",
       "    }\n",
       "\n",
       "    .dataframe thead th {\n",
       "        text-align: left;\n",
       "    }\n",
       "\n",
       "    .dataframe tbody tr th {\n",
       "        vertical-align: top;\n",
       "    }\n",
       "</style>\n",
       "<table border=\"1\" class=\"dataframe\">\n",
       "  <thead>\n",
       "    <tr style=\"text-align: right;\">\n",
       "      <th></th>\n",
       "      <th>TOR_F_SCALE</th>\n",
       "      <th>TOR_LENGTH</th>\n",
       "      <th>TOR_WIDTH</th>\n",
       "      <th>Duration</th>\n",
       "      <th>AverageDate</th>\n",
       "      <th>AverageTime</th>\n",
       "      <th>Deaths</th>\n",
       "      <th>Injuries</th>\n",
       "      <th>Mean_Lat</th>\n",
       "      <th>Mean_Lon</th>\n",
       "      <th>Azimuth</th>\n",
       "      <th>State</th>\n",
       "      <th>TotalCost</th>\n",
       "      <th>Source</th>\n",
       "    </tr>\n",
       "  </thead>\n",
       "  <tbody>\n",
       "    <tr>\n",
       "      <th>0</th>\n",
       "      <td>EF0</td>\n",
       "      <td>0.27</td>\n",
       "      <td>20.0</td>\n",
       "      <td>1</td>\n",
       "      <td>208</td>\n",
       "      <td>15.855</td>\n",
       "      <td>0</td>\n",
       "      <td>0</td>\n",
       "      <td>41.7345</td>\n",
       "      <td>-93.3220</td>\n",
       "      <td>120.34</td>\n",
       "      <td>IA</td>\n",
       "      <td>0</td>\n",
       "      <td>Public</td>\n",
       "    </tr>\n",
       "    <tr>\n",
       "      <th>1</th>\n",
       "      <td>EF0</td>\n",
       "      <td>0.20</td>\n",
       "      <td>20.0</td>\n",
       "      <td>1</td>\n",
       "      <td>208</td>\n",
       "      <td>16.255</td>\n",
       "      <td>0</td>\n",
       "      <td>0</td>\n",
       "      <td>41.6694</td>\n",
       "      <td>-93.0534</td>\n",
       "      <td>117.98</td>\n",
       "      <td>IA</td>\n",
       "      <td>0</td>\n",
       "      <td>Law_Enforcement</td>\n",
       "    </tr>\n",
       "  </tbody>\n",
       "</table>\n",
       "</div>"
      ],
      "text/plain": [
       "  TOR_F_SCALE  TOR_LENGTH  TOR_WIDTH  Duration  AverageDate  AverageTime  \\\n",
       "0         EF0        0.27       20.0         1          208       15.855   \n",
       "1         EF0        0.20       20.0         1          208       16.255   \n",
       "\n",
       "   Deaths  Injuries  Mean_Lat  Mean_Lon  Azimuth State  TotalCost  \\\n",
       "0       0         0   41.7345  -93.3220   120.34    IA          0   \n",
       "1       0         0   41.6694  -93.0534   117.98    IA          0   \n",
       "\n",
       "            Source  \n",
       "0           Public  \n",
       "1  Law_Enforcement  "
      ]
     },
     "execution_count": 422,
     "metadata": {},
     "output_type": "execute_result"
    }
   ],
   "source": [
    "dfnew.head(2)"
   ]
  },
  {
   "cell_type": "markdown",
   "metadata": {},
   "source": [
    "## Feature matrix and target"
   ]
  },
  {
   "cell_type": "code",
   "execution_count": 423,
   "metadata": {},
   "outputs": [
    {
     "name": "stdout",
     "output_type": "stream",
     "text": [
      "(14537, 14) (14537, 91)\n"
     ]
    },
    {
     "data": {
      "text/html": [
       "<div>\n",
       "<style>\n",
       "    .dataframe thead tr:only-child th {\n",
       "        text-align: right;\n",
       "    }\n",
       "\n",
       "    .dataframe thead th {\n",
       "        text-align: left;\n",
       "    }\n",
       "\n",
       "    .dataframe tbody tr th {\n",
       "        vertical-align: top;\n",
       "    }\n",
       "</style>\n",
       "<table border=\"1\" class=\"dataframe\">\n",
       "  <thead>\n",
       "    <tr style=\"text-align: right;\">\n",
       "      <th></th>\n",
       "      <th>TOR_LENGTH</th>\n",
       "      <th>TOR_WIDTH</th>\n",
       "      <th>Duration</th>\n",
       "      <th>AverageDate</th>\n",
       "      <th>AverageTime</th>\n",
       "      <th>Deaths</th>\n",
       "      <th>Injuries</th>\n",
       "      <th>Mean_Lat</th>\n",
       "      <th>Mean_Lon</th>\n",
       "      <th>Azimuth</th>\n",
       "      <th>...</th>\n",
       "      <th>Source_Official_NWS_Observations</th>\n",
       "      <th>Source_Other_Federal_Agency</th>\n",
       "      <th>Source_Park/Forest_Service</th>\n",
       "      <th>Source_Public</th>\n",
       "      <th>Source_Social_Media</th>\n",
       "      <th>Source_State_Official</th>\n",
       "      <th>Source_Storm_Chaser</th>\n",
       "      <th>Source_Trained_Spotter</th>\n",
       "      <th>Source_Unknown</th>\n",
       "      <th>Source_Utility_Company</th>\n",
       "    </tr>\n",
       "  </thead>\n",
       "  <tbody>\n",
       "    <tr>\n",
       "      <th>0</th>\n",
       "      <td>-0.659078</td>\n",
       "      <td>-0.553944</td>\n",
       "      <td>-0.663874</td>\n",
       "      <td>0.718893</td>\n",
       "      <td>0.064674</td>\n",
       "      <td>-0.048936</td>\n",
       "      <td>-0.060172</td>\n",
       "      <td>0.992459</td>\n",
       "      <td>-0.148916</td>\n",
       "      <td>1.408516</td>\n",
       "      <td>...</td>\n",
       "      <td>0</td>\n",
       "      <td>0</td>\n",
       "      <td>0</td>\n",
       "      <td>1</td>\n",
       "      <td>0</td>\n",
       "      <td>0</td>\n",
       "      <td>0</td>\n",
       "      <td>0</td>\n",
       "      <td>0</td>\n",
       "      <td>0</td>\n",
       "    </tr>\n",
       "    <tr>\n",
       "      <th>1</th>\n",
       "      <td>-0.675226</td>\n",
       "      <td>-0.553944</td>\n",
       "      <td>-0.663874</td>\n",
       "      <td>0.718893</td>\n",
       "      <td>0.142254</td>\n",
       "      <td>-0.048936</td>\n",
       "      <td>-0.060172</td>\n",
       "      <td>0.978564</td>\n",
       "      <td>-0.115505</td>\n",
       "      <td>1.354118</td>\n",
       "      <td>...</td>\n",
       "      <td>0</td>\n",
       "      <td>0</td>\n",
       "      <td>0</td>\n",
       "      <td>0</td>\n",
       "      <td>0</td>\n",
       "      <td>0</td>\n",
       "      <td>0</td>\n",
       "      <td>0</td>\n",
       "      <td>0</td>\n",
       "      <td>0</td>\n",
       "    </tr>\n",
       "  </tbody>\n",
       "</table>\n",
       "<p>2 rows × 91 columns</p>\n",
       "</div>"
      ],
      "text/plain": [
       "   TOR_LENGTH  TOR_WIDTH  Duration  AverageDate  AverageTime    Deaths  \\\n",
       "0   -0.659078  -0.553944 -0.663874     0.718893     0.064674 -0.048936   \n",
       "1   -0.675226  -0.553944 -0.663874     0.718893     0.142254 -0.048936   \n",
       "\n",
       "   Injuries  Mean_Lat  Mean_Lon   Azimuth           ...            \\\n",
       "0 -0.060172  0.992459 -0.148916  1.408516           ...             \n",
       "1 -0.060172  0.978564 -0.115505  1.354118           ...             \n",
       "\n",
       "   Source_Official_NWS_Observations  Source_Other_Federal_Agency  \\\n",
       "0                                 0                            0   \n",
       "1                                 0                            0   \n",
       "\n",
       "   Source_Park/Forest_Service  Source_Public  Source_Social_Media  \\\n",
       "0                           0              1                    0   \n",
       "1                           0              0                    0   \n",
       "\n",
       "   Source_State_Official  Source_Storm_Chaser  Source_Trained_Spotter  \\\n",
       "0                      0                    0                       0   \n",
       "1                      0                    0                       0   \n",
       "\n",
       "   Source_Unknown  Source_Utility_Company  \n",
       "0               0                       0  \n",
       "1               0                       0  \n",
       "\n",
       "[2 rows x 91 columns]"
      ]
     },
     "execution_count": 423,
     "metadata": {},
     "output_type": "execute_result"
    }
   ],
   "source": [
    "# Feature matrix:\n",
    "Xnew1 = dfnew.drop(['TotalCost'], axis=1)\n",
    "\n",
    "# As we saw in the previous analyses to predict the scale of a tornado, the unidentifies ones \n",
    "# (ie EFU) are in most cases EF0 tornadoes. We are therefore going to replace all the EFU by EF0.\n",
    "Xnew1.TOR_F_SCALE = Xnew1.TOR_F_SCALE.map(lambda scale: 'EF0' if scale=='EFU' else scale)\n",
    "\n",
    "# Standardizing numerical features:\n",
    "numfeat = ['TOR_LENGTH', 'TOR_WIDTH', 'Duration', 'AverageDate', 'AverageTime', 'Deaths',\n",
    "           'Injuries', 'Mean_Lat', 'Mean_Lon', 'Azimuth']\n",
    "scaler = StandardScaler()\n",
    "Xnew1num = pd.DataFrame(scaler.fit_transform(Xnew1[numfeat]), columns=numfeat)\n",
    "\n",
    "# Dummifying categorical features:\n",
    "catfeat = ['TOR_F_SCALE', 'State', 'Source']\n",
    "Xnew1 = pd.concat([Xnew1num, Xnew1[catfeat]], axis=1)\n",
    "Xnew1 = pd.get_dummies(Xnew1, prefix=['Scale','State','Source'], columns=catfeat)\n",
    "Xnew1.drop(['Scale_EF0','State_TX','Source_NWS_Storm_Survey'], axis=1, inplace=True)\n",
    "\n",
    "print dfnew.shape, Xnew1.shape\n",
    "Xnew1.head(2)"
   ]
  },
  {
   "cell_type": "code",
   "execution_count": 425,
   "metadata": {},
   "outputs": [
    {
     "data": {
      "image/png": "[encoded data removed]",
      "text/plain": [
       "<matplotlib.figure.Figure at 0x13d32b450>"
      ]
     },
     "metadata": {},
     "output_type": "display_data"
    }
   ],
   "source": [
    "# Target:\n",
    "ynew1 = dfnew['TotalCost']\n",
    "plt.figure(figsize=(6,4))\n",
    "plt.title(\"Total damage cost distribution\")\n",
    "plt.ylabel(\"Number of tornadoes (log scale)\")\n",
    "plt.xlabel(\"Cost in billions of dollars\")\n",
    "ynew1.hist(bins=20, log=True)\n",
    "plt.show()"
   ]
  },
  {
   "cell_type": "markdown",
   "metadata": {},
   "source": [
    "The data being strongly postively skewed, the median is a better representation than the mean. This will be our baseline."
   ]
  },
  {
   "cell_type": "code",
   "execution_count": 49,
   "metadata": {},
   "outputs": [
    {
     "data": {
      "text/plain": [
       "count    1.453700e+04\n",
       "mean     1.487303e+06\n",
       "std      3.516064e+07\n",
       "min      0.000000e+00\n",
       "25%      0.000000e+00\n",
       "50%      5.000000e+03\n",
       "75%      7.500000e+04\n",
       "max      2.800000e+09\n",
       "Name: TotalCost, dtype: float64"
      ]
     },
     "execution_count": 49,
     "metadata": {},
     "output_type": "execute_result"
    }
   ],
   "source": [
    "ynew1.describe()"
   ]
  },
  {
   "cell_type": "markdown",
   "metadata": {},
   "source": [
    "## Modelling"
   ]
  },
  {
   "cell_type": "markdown",
   "metadata": {},
   "source": [
    "### Train/test split"
   ]
  },
  {
   "cell_type": "code",
   "execution_count": 464,
   "metadata": {
    "collapsed": true
   },
   "outputs": [],
   "source": [
    "Xnewtrain1, Xnewtest1, ynewtrain1, ynewtest1 = train_test_split(Xnew1, ynew1, test_size=0.3,\n",
    "                                                                random_state=3)"
   ]
  },
  {
   "cell_type": "markdown",
   "metadata": {},
   "source": [
    "### Baseline"
   ]
  },
  {
   "cell_type": "code",
   "execution_count": 465,
   "metadata": {},
   "outputs": [
    {
     "name": "stdout",
     "output_type": "stream",
     "text": [
      "Baseline RMSE:\t33863232.7319\n",
      "Baseline R2:\t-0.00287911086713\n"
     ]
    }
   ],
   "source": [
    "rmse_baseline = np.sqrt(mean_squared_error(ynewtest1, np.tile(ynewtest1.median(), len(ynewtest1))))\n",
    "R2_baseline = r2_score(ynewtest1, np.tile(ynewtest1.median(), len(ynewtest1)))\n",
    "print \"Baseline RMSE:\\t\", rmse_baseline\n",
    "print \"Baseline R2:\\t\", R2_baseline"
   ]
  },
  {
   "cell_type": "markdown",
   "metadata": {},
   "source": [
    "### Linear regression, no regularization"
   ]
  },
  {
   "cell_type": "code",
   "execution_count": 455,
   "metadata": {
    "collapsed": true
   },
   "outputs": [],
   "source": [
    "linreg1 = LinearRegression()"
   ]
  },
  {
   "cell_type": "code",
   "execution_count": 456,
   "metadata": {
    "collapsed": true
   },
   "outputs": [],
   "source": [
    "linreg1.fit(Xnewtrain1, ynewtrain1)\n",
    "yhatnew1 = linreg1.predict(Xnewtest1)"
   ]
  },
  {
   "cell_type": "code",
   "execution_count": 466,
   "metadata": {},
   "outputs": [
    {
     "name": "stdout",
     "output_type": "stream",
     "text": [
      "Linear Reg 1 - crossvalidated R2:\t-2.80817103928e+21\n",
      "Linear Reg 1 - RMSE:\t\t\t9.40080381137e+16\n",
      "Linear Reg 1 - R2:\t\t\t-7.72897198798e+18\n"
     ]
    }
   ],
   "source": [
    "rmse_linreg1 = np.sqrt(mean_squared_error(ynewtest1, yhatnew1))\n",
    "R2_linreg1 = r2_score(ynewtest1, yhatnew1)\n",
    "print \"Linear Reg 1 - crossvalidated R2:\\t\", np.mean(cross_val_score(linreg1, \n",
    "                                                                     Xnewtrain1,\n",
    "                                                                     ynewtrain1, cv=5))\n",
    "print \"Linear Reg 1 - RMSE:\\t\\t\\t\", rmse_linreg1\n",
    "print \"Linear Reg 1 - R2:\\t\\t\\t\", R2_linreg1"
   ]
  },
  {
   "cell_type": "markdown",
   "metadata": {},
   "source": [
    "- This is a very bad modelling.\n",
    "- When splitting the train/set differently, the scores get also completely different. It is very unstable."
   ]
  },
  {
   "cell_type": "markdown",
   "metadata": {},
   "source": [
    "### Linear regression, Lasso regularization"
   ]
  },
  {
   "cell_type": "code",
   "execution_count": 467,
   "metadata": {},
   "outputs": [
    {
     "name": "stdout",
     "output_type": "stream",
     "text": [
      "Lasso Reg 1 - crossvalidated R2:\t0.0440209262208\n",
      "Lasso Reg 1 - RMSE:\t\t\t21904184.4034\n",
      "Lasso Reg 1 - R2:\t\t\t0.580389904378\n"
     ]
    }
   ],
   "source": [
    "lassoreg1 = Lasso(random_state=31)\n",
    "lassoreg1.fit(Xnewtrain1, ynewtrain1)\n",
    "yhatnew_lassoreg1 = lassoreg1.predict(Xnewtest1)\n",
    "rmse_lassoreg1 = np.sqrt(mean_squared_error(ynewtest1, yhatnew_lassoreg1))\n",
    "R2_lassoreg1 = r2_score(ynewtest1, yhatnew_lassoreg1)\n",
    "print \"Lasso Reg 1 - crossvalidated R2:\\t\", np.mean(cross_val_score(lassoreg1, \n",
    "                                                                    Xnewtrain1, \n",
    "                                                                    ynewtrain1, cv=5))\n",
    "print \"Lasso Reg 1 - RMSE:\\t\\t\\t\", rmse_lassoreg1\n",
    "print \"Lasso Reg 1 - R2:\\t\\t\\t\", R2_lassoreg1"
   ]
  },
  {
   "cell_type": "markdown",
   "metadata": {},
   "source": [
    "Lasso regularization gives OK scores. The crossvalidated one is slightly over 0, which means the model is not fitting the data so well."
   ]
  },
  {
   "cell_type": "markdown",
   "metadata": {},
   "source": [
    "#### Gridsearch"
   ]
  },
  {
   "cell_type": "code",
   "execution_count": 446,
   "metadata": {},
   "outputs": [
    {
     "data": {
      "text/plain": [
       "array([  1.00000000e-02,   1.00000000e-01,   1.00000000e+00,\n",
       "         1.00000000e+01,   1.00000000e+02,   1.00000000e+03])"
      ]
     },
     "execution_count": 446,
     "metadata": {},
     "output_type": "execute_result"
    }
   ],
   "source": [
    "np.logspace(-2, 3, 6)"
   ]
  },
  {
   "cell_type": "code",
   "execution_count": 468,
   "metadata": {},
   "outputs": [
    {
     "name": "stdout",
     "output_type": "stream",
     "text": [
      "Fitting 5 folds for each of 6 candidates, totalling 30 fits\n"
     ]
    },
    {
     "name": "stderr",
     "output_type": "stream",
     "text": [
      "[Parallel(n_jobs=2)]: Done  30 out of  30 | elapsed:   32.8s finished\n"
     ]
    },
    {
     "data": {
      "text/plain": [
       "GridSearchCV(cv=5, error_score='raise',\n",
       "       estimator=Lasso(alpha=1.0, copy_X=True, fit_intercept=True, max_iter=1000,\n",
       "   normalize=False, positive=False, precompute=False, random_state=31,\n",
       "   selection='cyclic', tol=0.0001, warm_start=False),\n",
       "       fit_params={}, iid=True, n_jobs=2,\n",
       "       param_grid={'alpha': array([  1.00000e-02,   1.00000e-01,   1.00000e+00,   1.00000e+01,\n",
       "         1.00000e+02,   1.00000e+03])},\n",
       "       pre_dispatch='2*n_jobs', refit=True, return_train_score=True,\n",
       "       scoring=None, verbose=1)"
      ]
     },
     "execution_count": 468,
     "metadata": {},
     "output_type": "execute_result"
    }
   ],
   "source": [
    "lasso_params = {'alpha': np.logspace(-2, 3, 6)}\n",
    "lassoreg2 = GridSearchCV(lassoreg1, param_grid=lasso_params, cv=5, n_jobs=2, verbose=1)\n",
    "lassoreg2.fit(Xnewtrain1, ynewtrain1)"
   ]
  },
  {
   "cell_type": "code",
   "execution_count": 469,
   "metadata": {},
   "outputs": [
    {
     "data": {
      "text/plain": [
       "0.048179138755453425"
      ]
     },
     "execution_count": 469,
     "metadata": {},
     "output_type": "execute_result"
    }
   ],
   "source": [
    "lassoreg2.best_score_"
   ]
  },
  {
   "cell_type": "code",
   "execution_count": 470,
   "metadata": {},
   "outputs": [
    {
     "data": {
      "text/plain": [
       "{'alpha': 1000.0}"
      ]
     },
     "execution_count": 470,
     "metadata": {},
     "output_type": "execute_result"
    }
   ],
   "source": [
    "lassoreg2.best_params_"
   ]
  },
  {
   "cell_type": "markdown",
   "metadata": {
    "collapsed": true
   },
   "source": [
    "Getting slightly better, but still a long way to go."
   ]
  },
  {
   "cell_type": "markdown",
   "metadata": {},
   "source": [
    "Comments on damage cost prediction:\n",
    "- It does not seems as straight forward as the magnitude prediction.\n",
    "- It may be due to the highly asymetrical distribution (high postive skew).\n",
    "- Further testing is required."
   ]
  },
  {
   "cell_type": "markdown",
   "metadata": {},
   "source": [
    "# Conclusions"
   ]
  },
  {
   "cell_type": "markdown",
   "metadata": {},
   "source": [
    "## Parts"
   ]
  },
  {
   "cell_type": "markdown",
   "metadata": {},
   "source": [
    "This capstone project consists of 5 notebooks:\n",
    "- [Part 1](tornadoes_part1_project_introduction.ipynb): First analysis of the data and modelling on a subset of 500 tornadoes.\n",
    "- [Web Scraping](tornadoes_part2_webscraping_posgres.ipynb): Importing a bigger dataset from the web and saving as a local PostgreSQL\n",
    "- [Part 3](tornadoes_part3_eda_modelling_nlp_tsa.ipynb): work on the dataset of tornadoes which magnitude was measured with EF scale (2007-2017). Final EDA, more modelling, NLP and time series analysis.\n",
    "- [Pre-Processing class](tornadoes_part4_pre_processing_class.ipynb): Gathering of all the pre-processing steps of part 3 in a single class.\n",
    "- [Part 5](tornadoes_part5_modelling_upsampling_nlp.ipynb): Upsampling, further NLP testing and a first glance at predicting damage costs.\n"
   ]
  },
  {
   "cell_type": "markdown",
   "metadata": {},
   "source": [
    "## EDA"
   ]
  },
  {
   "cell_type": "markdown",
   "metadata": {},
   "source": [
    "- Extensive EDA and feature engineering was performed.\n",
    "- Part 1 and part 3 gather most of the insightful discoveries made."
   ]
  },
  {
   "cell_type": "markdown",
   "metadata": {},
   "source": [
    "### Time Series Analysis"
   ]
  },
  {
   "cell_type": "markdown",
   "metadata": {},
   "source": [
    "- The count of tornadoes over time was studied.\n",
    "- A clear yearly seasonality of the tornadoes was confirmed. Tornadoes are indeed more frequent in the month of April to July.\n",
    "- Selecting only the count of tornadoes for those months from 1952 until 2017 shows an increase trend. This can be either due to the effects of global warming or (most likely) to better measurments and tornado investigations."
   ]
  },
  {
   "cell_type": "markdown",
   "metadata": {},
   "source": [
    "## Predicting the tornadoes' magnitude"
   ]
  },
  {
   "cell_type": "markdown",
   "metadata": {},
   "source": [
    "### From numerical charactertics"
   ]
  },
  {
   "cell_type": "markdown",
   "metadata": {},
   "source": [
    "- Logistic Regression, Recurrent Neural Network and Random Forest models were tried.\n",
    "- We succeeded in a good model, improving the baseline accuracy from 0.527 to 0.732.\n",
    "- Because of strong imbalance between weak and strong tornadoes, the recall score of these latest is actually a better proof of model quality. \n",
    "- Better recall of strong tornadoes was achieved through successfull upsampling (accuracy 0.723)."
   ]
  },
  {
   "cell_type": "markdown",
   "metadata": {},
   "source": [
    "### From narrative - NLP"
   ]
  },
  {
   "cell_type": "markdown",
   "metadata": {},
   "source": [
    "- Naive Bayes, Random Forest and Stochastic Gradient Descent were tried.\n",
    "- Various tests were perfomed on Count Vectorizer. The best obtained model has an accuracy of 0.784.\n",
    "- There is room for improvement, NLP is a broad topic."
   ]
  },
  {
   "cell_type": "markdown",
   "metadata": {},
   "source": [
    "### From both the numerical and text features\n",
    "- Random Forest was tried. Accuracy score of 0.812 was obtained, but at the expense of the recall of strong tornadoes."
   ]
  },
  {
   "cell_type": "markdown",
   "metadata": {},
   "source": [
    "## Possible next steps\n",
    "- Try more models.\n",
    "- Include the tornadoes which magnitude was measures with the F scale (tornadoes between 1952 and 2006) and retest modelling.\n",
    "- Further test neural network.\n",
    "- NLP further tests of TF-IDF and lemmatization.\n",
    "- NLP sentiment analysis.\n",
    "- Time series analysis: analysing the increase in number of tornadoes trend and forecast the next few years with ARIMA model, including yearly seasonality.\n",
    "- Predict the total damage cost via regression. First pass of tests were performed. Further analysis and model testing needed.\n",
    "- Use other datasets already imported in my local postgreSQL database: fatalities and locations datasets.\n",
    "- Incorporate other datasets to improve predictions: weather data or census data (like average income to predict damages).\n",
    "- Further work on probabilites: get the probability per county to have a tornado of a certain magnitude in the next 5 years.\n",
    "- Build an app with Flask and make it publically available: entering the state/county, gives back the probabilities computed previously."
   ]
  }
 ],
 "metadata": {
  "kernelspec": {
   "display_name": "Python 2",
   "language": "python",
   "name": "python2"
  },
  "language_info": {
   "codemirror_mode": {
    "name": "ipython",
    "version": 2
   },
   "file_extension": ".py",
   "mimetype": "text/x-python",
   "name": "python",
   "nbconvert_exporter": "python",
   "pygments_lexer": "ipython2",
   "version": "2.7.13"
  }
 },
 "nbformat": 4,
 "nbformat_minor": 2
}
